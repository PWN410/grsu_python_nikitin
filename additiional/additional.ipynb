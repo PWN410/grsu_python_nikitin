{
 "cells": [
  {
   "cell_type": "markdown",
   "metadata": {},
   "source": [
    "# Дополнительное задание"
   ]
  },
  {
   "cell_type": "markdown",
   "metadata": {},
   "source": [
    "### Библиотеки\n",
    "Во всех задачах можно использовать библиотеки `requests` и `BeautifulSoup` (`bs4`)."
   ]
  },
  {
   "cell_type": "markdown",
   "metadata": {},
   "source": [
    "### Задача 1\n",
    "Написать функцию `get_news(url)`, принимающую на вход адрес веб-страницы `url`, загружающую эту веб-страницу и проверяющую, встречается ли в ней слово `Harry` (с большой буквы). Функция должна возвращать `True`, если встречается, и `False` в противном случае. Также функция должна возвращать `False`, если страницу не удалось открыть (например, была получена ошибка *404 Not Found*.)"
   ]
  },
  {
   "cell_type": "code",
   "execution_count": 20,
   "metadata": {
    "deletable": false,
    "nbgrader": {
     "checksum": "06e99e37531223f4a5bec3177853393b",
     "grade": false,
     "grade_id": "pr_1",
     "locked": false,
     "solution": true
    }
   },
   "outputs": [
    {
     "name": "stdout",
     "output_type": "stream",
     "text": [
      "True\n",
      "True\n",
      "False\n"
     ]
    }
   ],
   "source": [
    "# YOUR CODE HERE\n",
    "from bs4 import BeautifulSoup        # Для обработки HTML\n",
    "import re\n",
    "import requests\n",
    "def get_news(url):\n",
    "    try:\n",
    "        page = requests.get(url,timeout=5)\n",
    "        cont = BeautifulSoup(page.content)\n",
    "        \n",
    "    except requests.exceptions.HTTPError:\n",
    "        return False\n",
    "    else:\n",
    "        for i in cont.find_all():\n",
    "            if (\"Harry\" in i.text):\n",
    "                return True\n",
    "        return False\n",
    "\n",
    "print (get_news(\"https://en.wikipedia.org/w/index.php?title=J._K._Rowling&oldid=694008857\"))\n",
    "print (get_news(\"https://en.wikipedia.org/w/index.php?title=Star_Wars&oldid=694701430\"))\n",
    "print (get_news(\"https://en.wikipedia.org/w/index.php?title=Darth_Vader&oldid=694617684\"))"
   ]
  },
  {
   "cell_type": "code",
   "execution_count": 15,
   "metadata": {
    "deletable": false,
    "nbgrader": {
     "checksum": "208bdfaa408997e34f1f223f654d9c4d",
     "grade": true,
     "grade_id": "pr_1_1",
     "locked": true,
     "points": 1,
     "solution": false
    }
   },
   "outputs": [],
   "source": [
    "assert get_news(\"https://en.wikipedia.org/w/index.php?title=J._K._Rowling&oldid=694008857\")\n",
    "assert get_news(\"https://en.wikipedia.org/w/index.php?title=Star_Wars&oldid=694701430\")\n",
    "assert not get_news(\"https://en.wikipedia.org/w/index.php?title=Darth_Vader&oldid=694617684\")"
   ]
  },
  {
   "cell_type": "code",
   "execution_count": 18,
   "metadata": {
    "deletable": false,
    "nbgrader": {
     "checksum": "b91325c0d076c557b501a08637b82386",
     "grade": true,
     "grade_id": "pr_1_2",
     "locked": true,
     "points": 1,
     "solution": false
    }
   },
   "outputs": [
    {
     "name": "stdout",
     "output_type": "stream",
     "text": [
      "False\n"
     ]
    }
   ],
   "source": [
    "print (get_news(\"http://math-info.hse.ru/there_is_no_Harry_here\"))"
   ]
  },
  {
   "cell_type": "markdown",
   "metadata": {},
   "source": [
    "### Задача 2\n",
    "Написать функцию `get_strong(html)`, принимающую на вход html-страницу в виде длинной строки, записанной в переменную `html`, и возвращающую строчку, содержащуюся в первом теге `strong`.\n",
    "\n",
    "Примеры см. в тестах.\n",
    "\n",
    "**Подсказка.** Вы можете создать объект `BeautifulSoup`."
   ]
  },
  {
   "cell_type": "code",
   "execution_count": 32,
   "metadata": {
    "deletable": false,
    "nbgrader": {
     "checksum": "1f4333fd8a103a40ccd724d7e920196b",
     "grade": false,
     "grade_id": "pr_2",
     "locked": false,
     "solution": true
    }
   },
   "outputs": [
    {
     "name": "stdout",
     "output_type": "stream",
     "text": [
      "World\n",
      "World\n",
      "stronger\n",
      "One\n",
      "Two\n"
     ]
    }
   ],
   "source": [
    "# YOUR CODE HERE\n",
    "from bs4 import BeautifulSoup\n",
    "import re\n",
    "def get_strong(html):\n",
    "    cont = BeautifulSoup(html)\n",
    "    for i in cont.find_all(\"strong\"):\n",
    "        return i.text\n",
    "    \n",
    "    \n",
    "print (get_strong(\"<html><body><p>Hello, <strong>World</strong>!\")) #\"World\"\n",
    "html = \"\"\"<html>\n",
    "    <body>\n",
    "        <p>\n",
    "            Hello,\n",
    "            <strong>\n",
    "                World\n",
    "            </strong>\n",
    "        </p>\n",
    "    </body>\n",
    "</html>\"\"\"\n",
    "    \n",
    "print (get_strong(html).strip()) #\"World\"\n",
    "print (get_strong(\"<html><body><p>tag &lt;strong&gt; is used in HTML\\n to make letters <strong>stronger</strong>\")) #\"stronger\"\n",
    "print (get_strong(\"<html><body><strong>One\\nTwo</strong></body></html>\")) #\"One\\nTwo\""
   ]
  },
  {
   "cell_type": "code",
   "execution_count": 27,
   "metadata": {
    "deletable": false,
    "nbgrader": {
     "checksum": "38ecff3e138a37d667633b3398b51448",
     "grade": true,
     "grade_id": "pr_2_2",
     "locked": true,
     "points": 1,
     "solution": false
    }
   },
   "outputs": [],
   "source": [
    "assert get_strong(\"<html><body><p>Hello, <strong>World</strong>!\") == \"World\"\n",
    "html = \"\"\"<html>\n",
    "    <body>\n",
    "        <p>\n",
    "            Hello,\n",
    "            <strong>\n",
    "                World\n",
    "            </strong>\n",
    "        </p>\n",
    "    </body>\n",
    "</html>\"\"\"\n",
    "    \n",
    "assert get_strong(html).strip() == \"World\"\n",
    "assert get_strong(\"<html><body><p>tag &lt;strong&gt; is used in HTML\\n to make letters <strong>stronger</strong>\") == \"stronger\"\n",
    "assert get_strong(\"<html><body><strong>One\\nTwo</strong></body></html>\") == \"One\\nTwo\""
   ]
  },
  {
   "cell_type": "markdown",
   "metadata": {},
   "source": [
    "### Задача 3\n",
    "Для вставки картинок в HTML используется тег `<img>`, содержащий параметр `src` — адрес файла с картинкой. Например, `<img src=\"https://upload.wikimedia.org/wikipedia/commons/b/bd/Struthio_camelus_portrait_Whipsnade_Zoo.jpg\"/>`. Написать функцию `all_images_src(html)`, принимающую на вход длинную строчку с HTML-документом, а возвращающую список адресов всех картинок, встречающихся в этом документе (в том порядке, в котором они встречаются в документе)."
   ]
  },
  {
   "cell_type": "code",
   "execution_count": 8,
   "metadata": {
    "deletable": false,
    "nbgrader": {
     "checksum": "148c01d925f6070802007d7eda423912",
     "grade": false,
     "grade_id": "pr_3",
     "locked": false,
     "solution": true
    }
   },
   "outputs": [
    {
     "name": "stdout",
     "output_type": "stream",
     "text": [
      "['https://upload.wikimedia.org/wikipedia/commons/b/bd/Struthio_camelus_portrait_Whipsnade_Zoo.jpg']\n",
      "['test.jpg', 'well.png']\n",
      "['this is a test.jpg', 'img0000.png', 'img0001.png', 'img0002.png', 'img0003.png', 'img0004.png', 'img0005.png', 'img0006.png', 'img0007.png', 'img0008.png', 'img0009.png', 'img0010.png', 'img0011.png', 'img0012.png', 'img0013.png', 'img0014.png', 'img0015.png', 'img0016.png', 'img0017.png', 'img0018.png', 'img0019.png', 'img0020.png', 'img0021.png', 'img0022.png', 'img0023.png', 'img0024.png', 'img0025.png', 'img0026.png', 'img0027.png', 'img0028.png', 'img0029.png', 'img0030.png', 'img0031.png', 'img0032.png', 'img0033.png', 'img0034.png', 'img0035.png', 'img0036.png', 'img0037.png', 'img0038.png', 'img0039.png', 'img0040.png', 'img0041.png', 'img0042.png', 'img0043.png', 'img0044.png', 'img0045.png', 'img0046.png', 'img0047.png', 'img0048.png', 'img0049.png', 'img0050.png', 'img0051.png', 'img0052.png', 'img0053.png', 'img0054.png', 'img0055.png', 'img0056.png', 'img0057.png', 'img0058.png', 'img0059.png', 'img0060.png', 'img0061.png', 'img0062.png', 'img0063.png', 'img0064.png', 'img0065.png', 'img0066.png', 'img0067.png', 'img0068.png', 'img0069.png', 'img0070.png', 'img0071.png', 'img0072.png', 'img0073.png', 'img0074.png', 'img0075.png', 'img0076.png', 'img0077.png', 'img0078.png', 'img0079.png', 'img0080.png', 'img0081.png', 'img0082.png', 'img0083.png', 'img0084.png', 'img0085.png', 'img0086.png', 'img0087.png', 'img0088.png', 'img0089.png', 'img0090.png', 'img0091.png', 'img0092.png', 'img0093.png', 'img0094.png', 'img0095.png', 'img0096.png', 'img0097.png', 'img0098.png', 'img0099.png', 'img0100.png', 'img0101.png', 'img0102.png', 'img0103.png', 'img0104.png', 'img0105.png', 'img0106.png', 'img0107.png', 'img0108.png', 'img0109.png', 'img0110.png', 'img0111.png', 'img0112.png', 'img0113.png', 'img0114.png', 'img0115.png', 'img0116.png', 'img0117.png', 'img0118.png', 'img0119.png', 'img0120.png', 'img0121.png', 'img0122.png', 'img0123.png', 'img0124.png', 'img0125.png', 'img0126.png', 'img0127.png', 'img0128.png', 'img0129.png', 'img0130.png', 'img0131.png', 'img0132.png', 'img0133.png', 'img0134.png', 'img0135.png', 'img0136.png', 'img0137.png', 'img0138.png', 'img0139.png', 'img0140.png', 'img0141.png', 'img0142.png', 'img0143.png', 'img0144.png', 'img0145.png', 'img0146.png', 'img0147.png', 'img0148.png', 'img0149.png', 'img0150.png', 'img0151.png', 'img0152.png', 'img0153.png', 'img0154.png', 'img0155.png', 'img0156.png', 'img0157.png', 'img0158.png', 'img0159.png', 'img0160.png', 'img0161.png', 'img0162.png', 'img0163.png', 'img0164.png', 'img0165.png', 'img0166.png', 'img0167.png', 'img0168.png', 'img0169.png', 'img0170.png', 'img0171.png', 'img0172.png', 'img0173.png', 'img0174.png', 'img0175.png', 'img0176.png', 'img0177.png', 'img0178.png', 'img0179.png', 'img0180.png', 'img0181.png', 'img0182.png', 'img0183.png', 'img0184.png', 'img0185.png', 'img0186.png', 'img0187.png', 'img0188.png', 'img0189.png', 'img0190.png', 'img0191.png', 'img0192.png', 'img0193.png', 'img0194.png', 'img0195.png', 'img0196.png', 'img0197.png', 'img0198.png', 'img0199.png', 'img0200.png', 'img0201.png', 'img0202.png', 'img0203.png', 'img0204.png', 'img0205.png', 'img0206.png', 'img0207.png', 'img0208.png', 'img0209.png', 'img0210.png', 'img0211.png', 'img0212.png', 'img0213.png', 'img0214.png', 'img0215.png', 'img0216.png', 'img0217.png', 'img0218.png', 'img0219.png', 'img0220.png', 'img0221.png', 'img0222.png', 'img0223.png', 'img0224.png', 'img0225.png', 'img0226.png', 'img0227.png', 'img0228.png', 'img0229.png', 'img0230.png', 'img0231.png', 'img0232.png', 'img0233.png', 'img0234.png', 'img0235.png', 'img0236.png', 'img0237.png', 'img0238.png', 'img0239.png', 'img0240.png', 'img0241.png', 'img0242.png', 'img0243.png', 'img0244.png', 'img0245.png', 'img0246.png', 'img0247.png', 'img0248.png', 'img0249.png', 'img0250.png', 'img0251.png', 'img0252.png', 'img0253.png', 'img0254.png', 'img0255.png', 'img0256.png', 'img0257.png', 'img0258.png', 'img0259.png', 'img0260.png', 'img0261.png', 'img0262.png', 'img0263.png', 'img0264.png', 'img0265.png', 'img0266.png', 'img0267.png', 'img0268.png', 'img0269.png', 'img0270.png', 'img0271.png', 'img0272.png', 'img0273.png', 'img0274.png', 'img0275.png', 'img0276.png', 'img0277.png', 'img0278.png', 'img0279.png', 'img0280.png', 'img0281.png', 'img0282.png', 'img0283.png', 'img0284.png', 'img0285.png', 'img0286.png', 'img0287.png', 'img0288.png', 'img0289.png', 'img0290.png', 'img0291.png', 'img0292.png', 'img0293.png', 'img0294.png', 'img0295.png', 'img0296.png', 'img0297.png', 'img0298.png', 'img0299.png', 'img0300.png', 'img0301.png', 'img0302.png', 'img0303.png', 'img0304.png', 'img0305.png', 'img0306.png', 'img0307.png', 'img0308.png', 'img0309.png', 'img0310.png', 'img0311.png', 'img0312.png', 'img0313.png', 'img0314.png', 'img0315.png', 'img0316.png', 'img0317.png', 'img0318.png', 'img0319.png', 'img0320.png', 'img0321.png', 'img0322.png', 'img0323.png', 'img0324.png', 'img0325.png', 'img0326.png', 'img0327.png', 'img0328.png', 'img0329.png', 'img0330.png', 'img0331.png', 'img0332.png', 'img0333.png', 'img0334.png', 'img0335.png', 'img0336.png', 'img0337.png', 'img0338.png', 'img0339.png', 'img0340.png', 'img0341.png', 'img0342.png', 'img0343.png', 'img0344.png', 'img0345.png', 'img0346.png', 'img0347.png', 'img0348.png', 'img0349.png', 'img0350.png', 'img0351.png', 'img0352.png', 'img0353.png', 'img0354.png', 'img0355.png', 'img0356.png', 'img0357.png', 'img0358.png', 'img0359.png', 'img0360.png', 'img0361.png', 'img0362.png', 'img0363.png', 'img0364.png', 'img0365.png', 'img0366.png', 'img0367.png', 'img0368.png', 'img0369.png', 'img0370.png', 'img0371.png', 'img0372.png', 'img0373.png', 'img0374.png', 'img0375.png', 'img0376.png', 'img0377.png', 'img0378.png', 'img0379.png', 'img0380.png', 'img0381.png', 'img0382.png', 'img0383.png', 'img0384.png', 'img0385.png', 'img0386.png', 'img0387.png', 'img0388.png', 'img0389.png', 'img0390.png', 'img0391.png', 'img0392.png', 'img0393.png', 'img0394.png', 'img0395.png', 'img0396.png', 'img0397.png', 'img0398.png', 'img0399.png', 'img0400.png', 'img0401.png', 'img0402.png', 'img0403.png', 'img0404.png', 'img0405.png', 'img0406.png', 'img0407.png', 'img0408.png', 'img0409.png', 'img0410.png', 'img0411.png', 'img0412.png', 'img0413.png', 'img0414.png', 'img0415.png', 'img0416.png', 'img0417.png', 'img0418.png', 'img0419.png', 'img0420.png', 'img0421.png', 'img0422.png', 'img0423.png', 'img0424.png', 'img0425.png', 'img0426.png', 'img0427.png', 'img0428.png', 'img0429.png', 'img0430.png', 'img0431.png', 'img0432.png', 'img0433.png', 'img0434.png', 'img0435.png', 'img0436.png', 'img0437.png', 'img0438.png', 'img0439.png', 'img0440.png', 'img0441.png', 'img0442.png', 'img0443.png', 'img0444.png', 'img0445.png', 'img0446.png', 'img0447.png', 'img0448.png', 'img0449.png', 'img0450.png', 'img0451.png', 'img0452.png', 'img0453.png', 'img0454.png', 'img0455.png', 'img0456.png', 'img0457.png', 'img0458.png', 'img0459.png', 'img0460.png', 'img0461.png', 'img0462.png', 'img0463.png', 'img0464.png', 'img0465.png', 'img0466.png', 'img0467.png', 'img0468.png', 'img0469.png', 'img0470.png', 'img0471.png', 'img0472.png', 'img0473.png', 'img0474.png', 'img0475.png', 'img0476.png', 'img0477.png', 'img0478.png', 'img0479.png', 'img0480.png', 'img0481.png', 'img0482.png', 'img0483.png', 'img0484.png', 'img0485.png', 'img0486.png', 'img0487.png', 'img0488.png', 'img0489.png', 'img0490.png', 'img0491.png', 'img0492.png', 'img0493.png', 'img0494.png', 'img0495.png', 'img0496.png', 'img0497.png', 'img0498.png', 'img0499.png', 'img0500.png', 'img0501.png', 'img0502.png', 'img0503.png', 'img0504.png', 'img0505.png', 'img0506.png', 'img0507.png', 'img0508.png', 'img0509.png', 'img0510.png', 'img0511.png', 'img0512.png', 'img0513.png', 'img0514.png', 'img0515.png', 'img0516.png', 'img0517.png', 'img0518.png', 'img0519.png', 'img0520.png', 'img0521.png', 'img0522.png', 'img0523.png', 'img0524.png', 'img0525.png', 'img0526.png', 'img0527.png', 'img0528.png', 'img0529.png', 'img0530.png', 'img0531.png', 'img0532.png', 'img0533.png', 'img0534.png', 'img0535.png', 'img0536.png', 'img0537.png', 'img0538.png', 'img0539.png', 'img0540.png', 'img0541.png', 'img0542.png', 'img0543.png', 'img0544.png', 'img0545.png', 'img0546.png', 'img0547.png', 'img0548.png', 'img0549.png', 'img0550.png', 'img0551.png', 'img0552.png', 'img0553.png', 'img0554.png', 'img0555.png', 'img0556.png', 'img0557.png', 'img0558.png', 'img0559.png', 'img0560.png', 'img0561.png', 'img0562.png', 'img0563.png', 'img0564.png', 'img0565.png', 'img0566.png', 'img0567.png', 'img0568.png', 'img0569.png', 'img0570.png', 'img0571.png', 'img0572.png', 'img0573.png', 'img0574.png', 'img0575.png', 'img0576.png', 'img0577.png', 'img0578.png', 'img0579.png', 'img0580.png', 'img0581.png', 'img0582.png', 'img0583.png', 'img0584.png', 'img0585.png', 'img0586.png', 'img0587.png', 'img0588.png', 'img0589.png', 'img0590.png', 'img0591.png', 'img0592.png', 'img0593.png', 'img0594.png', 'img0595.png', 'img0596.png', 'img0597.png', 'img0598.png', 'img0599.png', 'img0600.png', 'img0601.png', 'img0602.png', 'img0603.png', 'img0604.png', 'img0605.png', 'img0606.png', 'img0607.png', 'img0608.png', 'img0609.png', 'img0610.png', 'img0611.png', 'img0612.png', 'img0613.png', 'img0614.png', 'img0615.png', 'img0616.png', 'img0617.png', 'img0618.png', 'img0619.png', 'img0620.png', 'img0621.png', 'img0622.png', 'img0623.png', 'img0624.png', 'img0625.png', 'img0626.png', 'img0627.png', 'img0628.png', 'img0629.png', 'img0630.png', 'img0631.png', 'img0632.png', 'img0633.png', 'img0634.png', 'img0635.png', 'img0636.png', 'img0637.png', 'img0638.png', 'img0639.png', 'img0640.png', 'img0641.png', 'img0642.png', 'img0643.png', 'img0644.png', 'img0645.png', 'img0646.png', 'img0647.png', 'img0648.png', 'img0649.png', 'img0650.png', 'img0651.png', 'img0652.png', 'img0653.png', 'img0654.png', 'img0655.png', 'img0656.png', 'img0657.png', 'img0658.png', 'img0659.png', 'img0660.png', 'img0661.png', 'img0662.png', 'img0663.png', 'img0664.png', 'img0665.png', 'img0666.png', 'img0667.png', 'img0668.png', 'img0669.png', 'img0670.png', 'img0671.png', 'img0672.png', 'img0673.png', 'img0674.png', 'img0675.png', 'img0676.png', 'img0677.png', 'img0678.png', 'img0679.png', 'img0680.png', 'img0681.png', 'img0682.png', 'img0683.png', 'img0684.png', 'img0685.png', 'img0686.png', 'img0687.png', 'img0688.png', 'img0689.png', 'img0690.png', 'img0691.png', 'img0692.png', 'img0693.png', 'img0694.png', 'img0695.png', 'img0696.png', 'img0697.png', 'img0698.png', 'img0699.png', 'img0700.png', 'img0701.png', 'img0702.png', 'img0703.png', 'img0704.png', 'img0705.png', 'img0706.png', 'img0707.png', 'img0708.png', 'img0709.png', 'img0710.png', 'img0711.png', 'img0712.png', 'img0713.png', 'img0714.png', 'img0715.png', 'img0716.png', 'img0717.png', 'img0718.png', 'img0719.png', 'img0720.png', 'img0721.png', 'img0722.png', 'img0723.png', 'img0724.png', 'img0725.png', 'img0726.png', 'img0727.png', 'img0728.png', 'img0729.png', 'img0730.png', 'img0731.png', 'img0732.png', 'img0733.png', 'img0734.png', 'img0735.png', 'img0736.png', 'img0737.png', 'img0738.png', 'img0739.png', 'img0740.png', 'img0741.png', 'img0742.png', 'img0743.png', 'img0744.png', 'img0745.png', 'img0746.png', 'img0747.png', 'img0748.png', 'img0749.png', 'img0750.png', 'img0751.png', 'img0752.png', 'img0753.png', 'img0754.png', 'img0755.png', 'img0756.png', 'img0757.png', 'img0758.png', 'img0759.png', 'img0760.png', 'img0761.png', 'img0762.png', 'img0763.png', 'img0764.png', 'img0765.png', 'img0766.png', 'img0767.png', 'img0768.png', 'img0769.png', 'img0770.png', 'img0771.png', 'img0772.png', 'img0773.png', 'img0774.png', 'img0775.png', 'img0776.png', 'img0777.png', 'img0778.png', 'img0779.png', 'img0780.png', 'img0781.png', 'img0782.png', 'img0783.png', 'img0784.png', 'img0785.png', 'img0786.png', 'img0787.png', 'img0788.png', 'img0789.png', 'img0790.png', 'img0791.png', 'img0792.png', 'img0793.png', 'img0794.png', 'img0795.png', 'img0796.png', 'img0797.png', 'img0798.png', 'img0799.png', 'img0800.png', 'img0801.png', 'img0802.png', 'img0803.png', 'img0804.png', 'img0805.png', 'img0806.png', 'img0807.png', 'img0808.png', 'img0809.png', 'img0810.png', 'img0811.png', 'img0812.png', 'img0813.png', 'img0814.png', 'img0815.png', 'img0816.png', 'img0817.png', 'img0818.png', 'img0819.png', 'img0820.png', 'img0821.png', 'img0822.png', 'img0823.png', 'img0824.png', 'img0825.png', 'img0826.png', 'img0827.png', 'img0828.png', 'img0829.png', 'img0830.png', 'img0831.png', 'img0832.png', 'img0833.png', 'img0834.png', 'img0835.png', 'img0836.png', 'img0837.png', 'img0838.png', 'img0839.png', 'img0840.png', 'img0841.png', 'img0842.png', 'img0843.png', 'img0844.png', 'img0845.png', 'img0846.png', 'img0847.png', 'img0848.png', 'img0849.png', 'img0850.png', 'img0851.png', 'img0852.png', 'img0853.png', 'img0854.png', 'img0855.png', 'img0856.png', 'img0857.png', 'img0858.png', 'img0859.png', 'img0860.png', 'img0861.png', 'img0862.png', 'img0863.png', 'img0864.png', 'img0865.png', 'img0866.png', 'img0867.png', 'img0868.png', 'img0869.png', 'img0870.png', 'img0871.png', 'img0872.png', 'img0873.png', 'img0874.png', 'img0875.png', 'img0876.png', 'img0877.png', 'img0878.png', 'img0879.png', 'img0880.png', 'img0881.png', 'img0882.png', 'img0883.png', 'img0884.png', 'img0885.png', 'img0886.png', 'img0887.png', 'img0888.png', 'img0889.png', 'img0890.png', 'img0891.png', 'img0892.png', 'img0893.png', 'img0894.png', 'img0895.png', 'img0896.png', 'img0897.png', 'img0898.png', 'img0899.png', 'img0900.png', 'img0901.png', 'img0902.png', 'img0903.png', 'img0904.png', 'img0905.png', 'img0906.png', 'img0907.png', 'img0908.png', 'img0909.png', 'img0910.png', 'img0911.png', 'img0912.png', 'img0913.png', 'img0914.png', 'img0915.png', 'img0916.png', 'img0917.png', 'img0918.png', 'img0919.png', 'img0920.png', 'img0921.png', 'img0922.png', 'img0923.png', 'img0924.png', 'img0925.png', 'img0926.png', 'img0927.png', 'img0928.png', 'img0929.png', 'img0930.png', 'img0931.png', 'img0932.png', 'img0933.png', 'img0934.png', 'img0935.png', 'img0936.png', 'img0937.png', 'img0938.png', 'img0939.png', 'img0940.png', 'img0941.png', 'img0942.png', 'img0943.png', 'img0944.png', 'img0945.png', 'img0946.png', 'img0947.png', 'img0948.png', 'img0949.png', 'img0950.png', 'img0951.png', 'img0952.png', 'img0953.png', 'img0954.png', 'img0955.png', 'img0956.png', 'img0957.png', 'img0958.png', 'img0959.png', 'img0960.png', 'img0961.png', 'img0962.png', 'img0963.png', 'img0964.png', 'img0965.png', 'img0966.png', 'img0967.png', 'img0968.png', 'img0969.png', 'img0970.png', 'img0971.png', 'img0972.png', 'img0973.png', 'img0974.png', 'img0975.png', 'img0976.png', 'img0977.png', 'img0978.png', 'img0979.png', 'img0980.png', 'img0981.png', 'img0982.png', 'img0983.png', 'img0984.png', 'img0985.png', 'img0986.png', 'img0987.png', 'img0988.png', 'img0989.png', 'img0990.png', 'img0991.png', 'img0992.png', 'img0993.png', 'img0994.png', 'img0995.png', 'img0996.png', 'img0997.png', 'img0998.png', 'img0999.png']\n"
     ]
    }
   ],
   "source": [
    "# YOUR CODE HERE\n",
    "from bs4 import BeautifulSoup\n",
    "import re\n",
    "def all_images_src(html):\n",
    "    cont = BeautifulSoup(html)\n",
    "    arr = cont.find_all(\"img\", src = True)\n",
    "    real_arr = []\n",
    "    for i in arr:\n",
    "        i = str(i)        \n",
    "        i = re.search(r'src=(.+\\.jpg)|(.+\\.png)', i)     #https?://[^\\\"\\s]+\n",
    "        i = i.group(0)\n",
    "        i=re.sub(\".*=\\\"\", \"\", i)\n",
    "        real_arr.append(i)\n",
    "    return real_arr\n",
    "\n",
    "\n",
    "print(all_images_src('<html><body><img src=\"https://upload.wikimedia.org/wikipedia/commons/b/bd/Struthio_camelus_portrait_Whipsnade_Zoo.jpg\"/>'))\n",
    "print (all_images_src('<html><body><IMG src=\"test.jpg\">\\n'\n",
    "                        '<p>Some text\\n'\n",
    "                        '<img SRC=\\'well.png\\'>\\n'\n",
    "                        '</p></body></html>'))\n",
    "print (all_images_src('<html><body><p><a href=\"link.html\">'\n",
    "                      '<img alt=\"Just a test image\" src=\"this is a test.jpg\"><ul>' + \"\\n\"\n",
    "                      .join(\"<li><img src='img%04i.png'></li>\" % i for i in range(1000)) + \n",
    "                      \"</ul></p></body></html>\"))\n",
    "\n"
   ]
  },
  {
   "cell_type": "code",
   "execution_count": 9,
   "metadata": {
    "deletable": false,
    "nbgrader": {
     "checksum": "4a5f42498bed88531a56ed2725f35447",
     "grade": true,
     "grade_id": "pr_3_t",
     "locked": true,
     "points": 1,
     "solution": false
    }
   },
   "outputs": [],
   "source": [
    "assert all_images_src('<html><body><img src=\"https://upload.wikimedia.org/wikipedia/commons/b/bd/Struthio_camelus_portrait_Whipsnade_Zoo.jpg\"/>') == ['https://upload.wikimedia.org/wikipedia/commons/b/bd/Struthio_camelus_portrait_Whipsnade_Zoo.jpg']\n",
    "assert all_images_src( ('<html><body><IMG src=\"test.jpg\">\\n'\n",
    "                        '<p>Some text\\n'\n",
    "                        '<img SRC=\\'well.png\\'>\\n'\n",
    "                        '</p></body></html>') ) == [\"test.jpg\", \"well.png\"]\n",
    "assert all_images_src('<html><body><p><a href=\"link.html\">'\n",
    "                      '<img alt=\"Just a test image\" src=\"this is a test.jpg\"><ul>' + \"\\n\"\n",
    "                      .join(\"<li><img src='img%04i.png'></li>\" % i for i in range(1000)) + \n",
    "                      \"</ul></p></body></html>\"                     ) == ['this is a test.jpg'] + ['img%04i.png' % i for i in range(1000)]"
   ]
  },
  {
   "cell_type": "code",
   "execution_count": null,
   "metadata": {
    "deletable": false,
    "nbgrader": {
     "checksum": "fd6e3f0870bd33b6b251c44398cd1d15",
     "grade": false,
     "grade_id": "pr_4",
     "locked": false,
     "solution": true
    }
   },
   "outputs": [],
   "source": []
  },
  {
   "cell_type": "code",
   "execution_count": null,
   "metadata": {
    "deletable": false,
    "nbgrader": {
     "checksum": "acceb082acb8aac95855c7e052b86f98",
     "grade": true,
     "grade_id": "pr_4_t",
     "locked": true,
     "points": 2,
     "solution": false
    }
   },
   "outputs": [],
   "source": []
  },
  {
   "cell_type": "code",
   "execution_count": null,
   "metadata": {
    "deletable": false,
    "nbgrader": {
     "checksum": "5cf4041787597944249f522b76ca99ee",
     "grade": false,
     "grade_id": "pr_5",
     "locked": false,
     "solution": true
    }
   },
   "outputs": [],
   "source": []
  },
  {
   "cell_type": "code",
   "execution_count": null,
   "metadata": {
    "deletable": false,
    "nbgrader": {
     "checksum": "2d1d6fa36a253e07aa3560d767fb2f1d",
     "grade": true,
     "grade_id": "pr_5_1",
     "locked": true,
     "points": 4,
     "solution": false
    }
   },
   "outputs": [],
   "source": []
  },
  {
   "cell_type": "code",
   "execution_count": null,
   "metadata": {},
   "outputs": [],
   "source": []
  }
 ],
 "metadata": {
  "kernelspec": {
   "display_name": "Python 3",
   "language": "python",
   "name": "python3"
  },
  "language_info": {
   "codemirror_mode": {
    "name": "ipython",
    "version": 3
   },
   "file_extension": ".py",
   "mimetype": "text/x-python",
   "name": "python",
   "nbconvert_exporter": "python",
   "pygments_lexer": "ipython3",
   "version": "3.7.6"
  }
 },
 "nbformat": 4,
 "nbformat_minor": 1
}
