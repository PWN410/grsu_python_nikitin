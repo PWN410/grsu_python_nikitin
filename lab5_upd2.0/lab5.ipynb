{
 "cells": [
  {
   "cell_type": "markdown",
   "metadata": {},
   "source": [
    "# Лабораторная работа 5. Основы анализа данных NumPy и Matplotlib. "
   ]
  },
  {
   "cell_type": "markdown",
   "metadata": {},
   "source": [
    "# Часть 1. NumPy"
   ]
  },
  {
   "cell_type": "markdown",
   "metadata": {},
   "source": [
    "При решении научных задач с помощью численных методов зачастую приходится иметь дело с большими массивами данных в виде массивов и матриц. Стандартные средства Python (например, использование списков для хранения данных и прямой перебор элементов с помощью циклов) плохо подходят для таких задач, так как будут работать крайне медленно, в отличие от программ на компилируемых языках (Fortran, С). Пакет NumPy (http://www.numpy.org/) — это основной пакет, исполь¬зуемый в научных вычислениях в Python. NumPy предназначен для эф¬фективной работы с многомерными массивами, в том числе для эффек¬тивного применения математических операций к массивам и матрицам и их модификации без прямого перечисления элементов массивов. Поми¬мо этого NumPy обладает и другими возможностями — линейная алгеб¬ра, удобный ввод/вывод в файлы, моделирование случайных величин, быстрое преобразование Фурье, объединение программ на Fortran и С и другое (подробнее см. оф. сайт), поэтому важно изучить возможно¬сти данной библиотеки как можно лучше. "
   ]
  },
  {
   "cell_type": "markdown",
   "metadata": {},
   "source": [
    "1.\tВнимательно изучите следующий урок по NumPy: http://scipy.github.io/old-wiki/pages/Tentative_NumPy_Tutorial.\n",
    "2.\tИзучите официальное руководство пользователя https://docs.scipy.org/doc/numpy/user/.\n",
    "3.\tВнимательно изучите Reference Guide (полное описание всех функ¬ций) https://docs.scipy.org/doc/numpy/reference/, именно в нем перечислены все возможности NumPy, этой ссылкой придется регу¬лярно пользоваться.\n"
   ]
  },
  {
   "cell_type": "markdown",
   "metadata": {},
   "source": [
    "Выполните следующие задания (их много, но каждое занимает одну или несколько строк) средствами NumPy (и без использования циклов!)"
   ]
  },
  {
   "cell_type": "markdown",
   "metadata": {},
   "source": [
    "Импортируйте пакет numpy под именем nр"
   ]
  },
  {
   "cell_type": "code",
   "execution_count": 2,
   "metadata": {},
   "outputs": [],
   "source": [
    "import numpy as np"
   ]
  },
  {
   "cell_type": "markdown",
   "metadata": {},
   "source": [
    "Импортируйте пакет numpy под именем пр"
   ]
  },
  {
   "cell_type": "code",
   "execution_count": 2,
   "metadata": {},
   "outputs": [],
   "source": [
    "import numpy as np"
   ]
  },
  {
   "cell_type": "markdown",
   "metadata": {},
   "source": [
    "Создайте вектор из 10 элементов, заполненный 0, пятый эле-мент которого равен 1."
   ]
  },
  {
   "cell_type": "code",
   "execution_count": 5,
   "metadata": {},
   "outputs": [
    {
     "name": "stdout",
     "output_type": "stream",
     "text": [
      "[0. 0. 0. 0. 1. 0. 0. 0. 0. 0.]\n"
     ]
    }
   ],
   "source": [
    "array = np.zeros(10)\n",
    "array[4]=1\n",
    "print(array)"
   ]
  },
  {
   "cell_type": "markdown",
   "metadata": {},
   "source": [
    "Создайте вектор из 10 элементов, заполненный 0, пятый эле-мент которого равен 1."
   ]
  },
  {
   "cell_type": "code",
   "execution_count": null,
   "metadata": {
    "collapsed": true
   },
   "outputs": [],
   "source": [
    "array = np.zeros(10)\n",
    "array[4]=1\n",
    "print(array)"
   ]
  },
  {
   "cell_type": "markdown",
   "metadata": {},
   "source": [
    "Создайте матрицу 3 на 3 со значениями от 0 до 8."
   ]
  },
  {
   "cell_type": "code",
   "execution_count": 18,
   "metadata": {},
   "outputs": [
    {
     "name": "stdout",
     "output_type": "stream",
     "text": [
      "[[0 1 2]\n",
      " [3 4 5]\n",
      " [6 7 8]]\n"
     ]
    }
   ],
   "source": [
    "matrix = np.arange(0,9)\n",
    "matrix = matrix.reshape(3,3)\n",
    "print(matrix)"
   ]
  },
  {
   "cell_type": "markdown",
   "metadata": {},
   "source": [
    "Найдите индексы ненулевых элементов вектора [1,2,0,0,4,0]."
   ]
  },
  {
   "cell_type": "code",
   "execution_count": 20,
   "metadata": {},
   "outputs": [
    {
     "name": "stdout",
     "output_type": "stream",
     "text": [
      "(array([0, 1, 4], dtype=int64),)\n"
     ]
    }
   ],
   "source": [
    "array = [1,2,0,0,4,0]\n",
    "nzero=np.nonzero(array)\n",
    "print(nzero)"
   ]
  },
  {
   "cell_type": "markdown",
   "metadata": {},
   "source": [
    "Объявите единичную матрицу размером 3 на 3."
   ]
  },
  {
   "cell_type": "code",
   "execution_count": 22,
   "metadata": {},
   "outputs": [
    {
     "name": "stdout",
     "output_type": "stream",
     "text": [
      "[[1. 0. 0.]\n",
      " [0. 1. 0.]\n",
      " [0. 0. 1.]]\n"
     ]
    }
   ],
   "source": [
    "onearray=np.eye(3)\n",
    "print(onearray)"
   ]
  },
  {
   "cell_type": "markdown",
   "metadata": {},
   "source": [
    "Создайте массив 10x10x10 из случайных чисел."
   ]
  },
  {
   "cell_type": "code",
   "execution_count": 23,
   "metadata": {},
   "outputs": [
    {
     "name": "stdout",
     "output_type": "stream",
     "text": [
      "[[[1.81114095e-01 4.75046985e-01 1.58985942e-01 1.57687094e-01\n",
      "   8.79626318e-01 7.78054813e-01 2.60415364e-01 1.68676820e-01\n",
      "   4.79718548e-01 4.08037207e-01]\n",
      "  [6.26778104e-01 5.99685004e-01 7.32892451e-02 2.18384360e-01\n",
      "   8.57123869e-01 9.76446153e-01 6.75118964e-01 6.45824867e-03\n",
      "   1.95153072e-01 1.22495233e-01]\n",
      "  [2.30538039e-01 1.61071631e-01 3.19436991e-01 6.36274388e-01\n",
      "   6.21621228e-01 1.56754141e-01 4.90488477e-01 3.47098144e-01\n",
      "   6.27211468e-01 8.04512801e-01]\n",
      "  [1.32161546e-01 8.51260631e-01 4.57216064e-01 9.26147505e-02\n",
      "   3.75499635e-01 6.29171151e-01 6.77339769e-01 8.11108954e-01\n",
      "   8.48780498e-01 3.53999152e-01]\n",
      "  [8.18269975e-01 1.59931233e-01 7.68685152e-01 2.43644443e-01\n",
      "   3.44800049e-01 3.31032674e-01 6.33576975e-01 1.18873516e-01\n",
      "   2.22472521e-01 7.76117209e-01]\n",
      "  [8.67867411e-02 2.55110427e-01 4.94876882e-02 7.81844166e-01\n",
      "   6.38519616e-01 9.12975129e-03 3.95184397e-01 5.90552880e-01\n",
      "   8.56036517e-02 8.21536162e-01]\n",
      "  [6.79567647e-01 8.27882688e-01 7.55162096e-01 6.06835089e-01\n",
      "   2.78705229e-01 5.39986333e-01 9.50861061e-01 5.67546315e-01\n",
      "   4.79553339e-01 8.14928831e-01]\n",
      "  [8.93287682e-01 3.43869075e-01 6.85867577e-01 4.85656485e-01\n",
      "   1.33243039e-01 8.38691841e-01 5.97133293e-01 8.85000630e-02\n",
      "   5.60495640e-01 5.36123382e-01]\n",
      "  [3.63262301e-01 6.88511826e-01 2.22445739e-01 9.15510056e-01\n",
      "   4.30648282e-01 6.21283408e-01 8.52746692e-01 6.59222837e-01\n",
      "   8.94269695e-01 6.85243435e-01]\n",
      "  [1.30839081e-02 3.65041970e-01 1.06827630e-01 6.51670427e-01\n",
      "   2.00523237e-01 6.82425834e-01 2.57720324e-01 3.77262224e-01\n",
      "   4.90570232e-01 6.36765373e-02]]\n",
      "\n",
      " [[8.20179440e-01 3.78828499e-01 9.37532943e-01 9.93580024e-01\n",
      "   2.55407468e-01 8.36034586e-01 7.16907244e-02 8.33781589e-01\n",
      "   4.10230357e-01 6.60105016e-01]\n",
      "  [7.86523742e-01 5.75388122e-01 1.67567553e-02 1.24140840e-01\n",
      "   4.76586565e-01 7.74404587e-01 2.41387150e-01 5.23454356e-01\n",
      "   9.38875701e-01 8.09930480e-02]\n",
      "  [7.69801348e-02 1.91390675e-01 6.62002231e-01 8.64098649e-01\n",
      "   1.00130107e-01 5.25449638e-01 6.48719765e-01 8.86287626e-01\n",
      "   2.78171850e-01 6.46396792e-01]\n",
      "  [7.75472808e-01 7.66568562e-01 6.37554852e-01 8.29914642e-01\n",
      "   7.37211838e-01 8.42581668e-01 7.32275360e-01 9.11314674e-01\n",
      "   8.49784283e-01 1.93595943e-03]\n",
      "  [7.74216322e-01 2.89952548e-01 4.20325476e-01 1.10466595e-01\n",
      "   2.45295280e-01 3.42563547e-01 7.51057403e-01 8.49871707e-01\n",
      "   7.56321742e-01 5.63487063e-01]\n",
      "  [9.40971845e-01 9.00392061e-02 8.48176733e-01 9.76331775e-02\n",
      "   6.57839417e-01 2.71561348e-01 1.20363408e-01 4.10602722e-01\n",
      "   4.00414422e-01 1.23034000e-01]\n",
      "  [1.81254258e-01 9.86064470e-01 9.55113642e-01 1.55889305e-02\n",
      "   8.16369626e-01 2.87080391e-01 7.34333614e-01 4.59054261e-01\n",
      "   5.71199295e-01 6.83464780e-01]\n",
      "  [2.11623986e-01 5.26070161e-01 2.30884200e-01 6.08044819e-01\n",
      "   6.83047259e-01 8.40280716e-01 9.10374024e-02 7.41607275e-01\n",
      "   1.70430673e-01 6.60284649e-01]\n",
      "  [2.26453298e-02 4.61389177e-01 2.20878521e-02 5.06977538e-01\n",
      "   1.07188654e-01 2.87144495e-01 1.24335397e-01 5.15761530e-01\n",
      "   6.21286220e-01 4.98140516e-01]\n",
      "  [9.15708705e-01 6.01239329e-01 9.56034394e-01 8.51730447e-01\n",
      "   7.04791260e-01 3.45441347e-01 6.41047915e-01 4.88598601e-01\n",
      "   2.50109591e-01 5.89015560e-01]]\n",
      "\n",
      " [[6.19616544e-01 8.27932173e-01 7.41519676e-01 4.54025476e-01\n",
      "   4.08171905e-02 7.65671908e-01 4.68035452e-01 4.05848470e-01\n",
      "   4.95390481e-01 3.65952076e-01]\n",
      "  [4.82714209e-01 7.84973661e-01 2.05383893e-01 4.06922573e-01\n",
      "   2.09462319e-01 7.76835802e-01 6.23041011e-02 6.34995403e-01\n",
      "   6.84649006e-01 3.56799321e-01]\n",
      "  [2.45904796e-01 5.10239296e-01 7.92446120e-01 6.69800567e-02\n",
      "   1.66195608e-01 3.59935469e-01 7.67199405e-01 8.71306489e-01\n",
      "   8.48444519e-01 7.83436937e-01]\n",
      "  [5.66043501e-01 9.79556706e-01 5.90855372e-01 1.41194130e-01\n",
      "   1.40414045e-01 8.66606241e-01 4.28053193e-01 2.77144905e-01\n",
      "   7.52527344e-01 3.68658751e-01]\n",
      "  [8.23634405e-01 2.93376067e-01 4.30547611e-01 8.94504385e-02\n",
      "   1.64361571e-01 1.74728880e-01 1.12642986e-01 6.93370959e-01\n",
      "   3.06720013e-01 4.07258597e-01]\n",
      "  [2.86118078e-01 1.46854512e-01 5.50616493e-02 1.97383176e-01\n",
      "   3.63574170e-01 1.68917377e-01 4.74679529e-01 5.93687602e-01\n",
      "   1.08864028e-01 6.48952837e-01]\n",
      "  [1.31535508e-04 9.30373620e-01 6.90707743e-01 3.55803028e-01\n",
      "   4.96600813e-01 3.50650387e-01 1.69854196e-01 4.68769882e-01\n",
      "   9.55657849e-01 4.59318460e-03]\n",
      "  [2.86411266e-01 3.74121164e-01 4.79805047e-01 4.22227754e-01\n",
      "   7.55727429e-01 1.56531935e-01 2.64610745e-01 3.78485093e-01\n",
      "   1.64897739e-01 1.14559317e-01]\n",
      "  [1.33156576e-01 8.60332703e-01 8.36856550e-01 9.64764802e-01\n",
      "   8.33166906e-01 3.66761619e-01 4.78272739e-01 9.25783742e-02\n",
      "   3.82865329e-01 5.09323986e-01]\n",
      "  [9.91430996e-01 6.43434468e-01 6.50844822e-02 4.03239136e-01\n",
      "   1.07943907e-01 3.78125038e-01 8.26720625e-01 1.16431357e-01\n",
      "   1.40601342e-01 1.40992382e-02]]\n",
      "\n",
      " [[4.11376639e-01 2.50237524e-01 1.01442230e-01 3.75197099e-01\n",
      "   6.21382732e-01 8.19796076e-01 6.28932577e-01 2.01771804e-01\n",
      "   3.94146715e-01 9.30226483e-02]\n",
      "  [8.21178904e-01 7.05000301e-01 4.77276891e-01 3.12802480e-01\n",
      "   5.25801071e-01 4.97749292e-02 9.61909075e-02 2.00063287e-01\n",
      "   1.48024356e-01 4.17837878e-02]\n",
      "  [6.33683896e-01 2.49023076e-01 3.20028537e-01 9.44030986e-01\n",
      "   7.48669965e-01 8.78637596e-02 1.35706292e-01 1.53869057e-01\n",
      "   6.44670817e-01 2.43934345e-01]\n",
      "  [1.87835234e-01 7.63857775e-01 1.34309760e-01 1.54204384e-01\n",
      "   9.06335200e-01 2.05701402e-01 3.79605453e-01 7.04552485e-01\n",
      "   4.60422487e-01 9.28226048e-01]\n",
      "  [3.39562828e-01 9.35515580e-01 8.16706999e-01 5.67535945e-01\n",
      "   4.83101534e-01 2.95162706e-01 3.28857997e-01 8.14495647e-01\n",
      "   4.97261300e-01 8.61422348e-01]\n",
      "  [9.20809139e-02 2.97972559e-01 8.70514509e-01 7.11906942e-01\n",
      "   3.13810669e-01 9.83244375e-02 6.72080614e-01 1.89659749e-01\n",
      "   2.66505842e-01 8.04326007e-01]\n",
      "  [4.17499763e-01 1.61389837e-01 2.60883692e-01 2.04760712e-01\n",
      "   5.53866790e-01 1.64009805e-02 3.81385886e-01 2.68192482e-01\n",
      "   8.14296315e-01 3.43097561e-01]\n",
      "  [9.91380155e-01 4.75017970e-01 3.07420093e-01 9.20968126e-01\n",
      "   9.72886915e-01 5.24369361e-01 2.42865326e-03 8.46516623e-01\n",
      "   7.93643083e-01 5.80142462e-02]\n",
      "  [8.97046081e-01 3.54845721e-02 7.04268363e-01 9.45116366e-01\n",
      "   9.87554881e-02 7.03256794e-01 1.43735921e-01 9.66310746e-01\n",
      "   4.40448641e-01 5.19951441e-01]\n",
      "  [9.72250618e-01 5.67516114e-01 6.23078493e-01 5.02026976e-01\n",
      "   9.08881586e-01 9.25025760e-01 2.56429725e-01 4.72658019e-01\n",
      "   2.23058874e-01 2.33836117e-01]]\n",
      "\n",
      " [[3.41056274e-01 8.03338867e-02 6.61615782e-01 4.68949288e-01\n",
      "   5.31782176e-01 2.01916448e-01 7.32458525e-01 1.69256408e-02\n",
      "   9.60421668e-01 1.93478049e-01]\n",
      "  [2.90659289e-01 8.92963918e-01 5.91730889e-01 5.80497533e-01\n",
      "   5.87180895e-01 5.26137377e-01 1.13377128e-01 5.98028476e-01\n",
      "   2.47376106e-01 5.54942393e-01]\n",
      "  [2.04438550e-02 6.54492581e-01 7.06227331e-02 1.10590422e-01\n",
      "   1.37441762e-01 2.45771491e-01 7.56667128e-01 2.36483076e-01\n",
      "   5.04003219e-01 2.24138653e-01]\n",
      "  [7.46692916e-01 4.60716097e-01 1.37614026e-01 8.42807578e-01\n",
      "   2.15896487e-01 5.29542881e-01 6.67711965e-01 8.92793498e-02\n",
      "   2.96218278e-01 4.25102650e-01]\n",
      "  [6.74879259e-01 4.40598909e-01 1.46733033e-02 7.22536175e-01\n",
      "   9.40233168e-01 5.14607316e-02 6.12115187e-02 9.89515145e-01\n",
      "   2.05416476e-01 9.11203864e-01]\n",
      "  [2.22767212e-01 1.73004824e-01 3.26909567e-01 8.08594102e-01\n",
      "   2.02342133e-01 7.31628264e-01 3.86695237e-01 4.18758589e-02\n",
      "   3.60517272e-01 5.47529627e-02]\n",
      "  [8.88472960e-01 1.43303045e-01 4.76326277e-01 4.93981585e-01\n",
      "   9.50796736e-01 2.52318534e-01 1.67695257e-01 9.33772071e-01\n",
      "   2.86372657e-01 9.38457711e-01]\n",
      "  [7.06363850e-01 8.67885204e-01 8.03624900e-02 3.19379764e-01\n",
      "   4.53590474e-01 6.19083485e-01 6.29930707e-01 2.07962588e-01\n",
      "   9.36711921e-01 9.39632060e-01]\n",
      "  [3.71098802e-01 1.29302086e-01 2.09730607e-01 1.51939885e-01\n",
      "   1.85809159e-01 7.62332174e-01 3.93878548e-01 4.62820024e-01\n",
      "   9.08326245e-01 2.53417593e-01]\n",
      "  [7.42317372e-01 4.21207169e-01 7.79726686e-01 9.81626035e-01\n",
      "   7.68641500e-01 2.61270574e-01 5.91082166e-01 3.80041935e-01\n",
      "   4.54041332e-01 9.58494649e-01]]\n",
      "\n",
      " [[3.77344312e-02 6.84472863e-01 7.70822437e-01 3.85810568e-01\n",
      "   1.86079276e-01 9.42358008e-01 7.45954239e-01 5.75001580e-01\n",
      "   9.63845727e-02 1.45391557e-01]\n",
      "  [7.30570136e-01 4.26632489e-01 8.35192843e-01 4.66431083e-01\n",
      "   3.22620974e-01 1.04605567e-01 8.01285576e-01 6.42939960e-02\n",
      "   7.67874507e-01 5.49782944e-01]\n",
      "  [7.59026318e-01 3.73829547e-01 7.54699468e-01 4.88433066e-01\n",
      "   8.46462226e-01 3.15321737e-01 4.63178826e-01 3.66544966e-01\n",
      "   6.72945635e-02 4.78560500e-01]\n",
      "  [8.30699180e-01 4.25788185e-01 8.61465163e-01 5.60458700e-01\n",
      "   5.38409835e-01 1.31023104e-01 1.79278420e-01 5.19726097e-01\n",
      "   1.03197786e-01 5.04275276e-01]\n",
      "  [8.32670567e-01 3.41668791e-01 5.99644996e-01 1.38766203e-01\n",
      "   1.60906258e-01 7.98543351e-02 9.68675300e-01 5.56583032e-01\n",
      "   3.60314441e-01 3.69332895e-01]\n",
      "  [6.36565373e-01 3.77676266e-01 6.71229077e-01 7.56813445e-01\n",
      "   1.54908346e-01 1.71635936e-01 6.65846076e-01 6.75389515e-01\n",
      "   2.96322269e-01 9.04773496e-01]\n",
      "  [3.38387832e-01 7.53136533e-01 2.70209856e-01 2.79805483e-01\n",
      "   1.37187046e-01 6.31044197e-01 1.95522466e-01 5.68442114e-01\n",
      "   4.46257120e-01 8.42657106e-01]\n",
      "  [7.39575405e-01 9.57391460e-01 3.65521662e-01 3.03871103e-01\n",
      "   1.43796684e-01 7.20133444e-01 6.32364786e-01 7.09060127e-01\n",
      "   9.26751201e-01 6.93737145e-01]\n",
      "  [1.47299945e-01 7.14937402e-01 2.34179479e-01 7.48790607e-01\n",
      "   1.68391181e-01 2.34978365e-01 3.18722814e-01 8.62476075e-01\n",
      "   9.96831997e-01 7.09761801e-01]\n",
      "  [5.46001331e-01 1.36545360e-01 1.73745590e-02 9.70319514e-01\n",
      "   8.57869381e-03 7.72739279e-01 2.31565906e-01 6.00908240e-01\n",
      "   8.26619698e-01 3.11055903e-01]]\n",
      "\n",
      " [[3.68233291e-02 7.51998945e-02 8.78817863e-01 2.42335693e-01\n",
      "   3.43360119e-01 8.29665213e-01 9.90522311e-01 4.54597167e-01\n",
      "   5.45500176e-01 5.40432329e-01]\n",
      "  [7.94126155e-01 8.23177657e-01 3.80597080e-01 1.97391375e-01\n",
      "   9.42980687e-01 7.44272467e-01 4.44011465e-01 4.43931744e-01\n",
      "   9.39329606e-01 5.39644243e-01]\n",
      "  [6.82814345e-02 9.94119514e-02 9.15238275e-01 8.46885865e-01\n",
      "   7.61456554e-01 3.97783353e-02 9.83487498e-01 4.90370918e-01\n",
      "   7.05372082e-01 3.43999949e-01]\n",
      "  [1.88580192e-01 3.05991886e-01 4.88076752e-01 3.09928691e-01\n",
      "   4.55442016e-01 1.68004011e-01 5.17024196e-01 2.24803034e-01\n",
      "   2.71677768e-01 5.42934800e-01]\n",
      "  [1.65200272e-01 8.82074117e-01 2.95447704e-01 8.17109467e-01\n",
      "   3.86560999e-01 7.97616712e-01 9.41808173e-01 9.35653334e-02\n",
      "   2.85307891e-01 5.57504582e-01]\n",
      "  [7.63614751e-01 6.56912489e-01 9.88848840e-01 2.71523761e-01\n",
      "   9.69235010e-02 3.96743383e-01 9.99659665e-01 8.27280893e-01\n",
      "   3.72542129e-01 1.57573053e-01]\n",
      "  [6.12065290e-01 5.00574998e-01 7.50853104e-01 4.18072761e-01\n",
      "   8.34109719e-01 1.94443797e-01 1.28838289e-01 6.67046737e-01\n",
      "   4.99316349e-01 7.63081596e-01]\n",
      "  [7.76510458e-01 2.15513189e-01 2.68503642e-01 1.40466920e-01\n",
      "   2.98663355e-02 1.84671746e-01 1.83119994e-01 4.19223947e-01\n",
      "   3.38832919e-01 4.13370875e-01]\n",
      "  [2.65505447e-01 9.08559201e-01 1.70651226e-01 9.11050346e-01\n",
      "   7.72615078e-01 4.99054984e-01 6.70071269e-01 9.78165423e-02\n",
      "   5.54658459e-01 1.20223329e-01]\n",
      "  [2.11084683e-01 1.06485092e-01 9.07757495e-01 6.11320918e-01\n",
      "   3.33362093e-01 9.22283984e-01 9.70918954e-02 8.65093300e-01\n",
      "   7.08847974e-01 9.71774986e-01]]\n",
      "\n",
      " [[3.70040211e-01 6.88912117e-01 6.52849070e-01 2.97744060e-01\n",
      "   3.41419496e-01 7.66827628e-01 2.55130073e-01 7.54417835e-01\n",
      "   6.10870386e-01 2.77150342e-01]\n",
      "  [9.87188358e-02 5.31367164e-01 3.39261459e-01 6.05049359e-01\n",
      "   4.90917968e-01 9.46277704e-01 4.71170263e-01 2.84513664e-01\n",
      "   5.93083383e-01 3.95412195e-01]\n",
      "  [9.52149933e-01 1.83625737e-01 7.56386848e-01 4.81179867e-01\n",
      "   3.35426929e-01 5.21593977e-01 3.16514165e-01 7.10244941e-01\n",
      "   8.31112733e-01 4.30522948e-02]\n",
      "  [7.28957852e-01 9.36003699e-01 9.41961617e-01 8.54849426e-01\n",
      "   1.68667022e-01 4.03670380e-01 1.91868286e-01 2.52196990e-01\n",
      "   1.59061525e-01 8.60966054e-01]\n",
      "  [6.11280824e-01 5.06582497e-01 4.19973028e-01 4.75331468e-01\n",
      "   2.34374989e-01 9.18886015e-01 2.71503984e-01 4.56762866e-01\n",
      "   5.27959407e-01 8.12487591e-01]\n",
      "  [7.62842512e-02 3.66147907e-01 5.58929490e-01 9.43485522e-02\n",
      "   5.64468074e-01 7.82484927e-01 6.06534665e-01 4.64609491e-01\n",
      "   3.78692003e-01 3.79199716e-02]\n",
      "  [3.64882966e-01 6.84425086e-01 7.71159617e-01 2.60706245e-01\n",
      "   8.10025372e-01 6.93043498e-01 1.76371692e-01 9.13815835e-01\n",
      "   5.04211346e-01 3.55525406e-01]\n",
      "  [9.26167516e-01 2.68195411e-01 5.78010972e-01 6.02957492e-01\n",
      "   9.52282767e-01 7.05745039e-01 4.42714819e-01 4.73118291e-01\n",
      "   7.12981728e-04 2.35226287e-01]\n",
      "  [2.10005615e-01 7.15790835e-01 6.13193293e-01 2.63582572e-01\n",
      "   6.76245157e-01 9.32162542e-01 9.13685780e-01 3.32214180e-01\n",
      "   6.21400234e-01 5.20367150e-01]\n",
      "  [4.59246901e-01 2.04989915e-01 6.52801223e-01 7.74407946e-01\n",
      "   3.75536198e-01 7.24065975e-02 5.73543715e-01 8.56966003e-01\n",
      "   3.76851505e-01 9.45415157e-01]]\n",
      "\n",
      " [[4.23642764e-01 9.10666729e-01 7.86665532e-01 8.32747119e-01\n",
      "   5.00904966e-01 8.09988778e-01 5.59591004e-01 3.71628625e-01\n",
      "   1.41709448e-01 7.91147105e-03]\n",
      "  [2.13450588e-01 5.75183310e-02 9.77981053e-01 3.38920382e-01\n",
      "   9.61182842e-01 6.98976265e-01 9.47692267e-01 8.28731262e-01\n",
      "   6.73033358e-01 6.25060097e-01]\n",
      "  [8.78634704e-01 5.20490138e-01 8.95504548e-01 6.44505578e-01\n",
      "   1.62475351e-01 5.57080420e-01 5.44790513e-01 5.61654316e-01\n",
      "   3.76049791e-01 1.39855428e-01]\n",
      "  [1.10227464e-01 7.01223336e-02 7.12981565e-01 3.15324949e-01\n",
      "   9.36020252e-01 7.80894984e-01 4.66086820e-01 3.15230460e-02\n",
      "   8.42827368e-02 6.85434416e-01]\n",
      "  [1.98985425e-01 9.32841325e-01 8.82693520e-01 6.64129471e-01\n",
      "   3.87929265e-01 8.86220222e-01 8.42252002e-01 6.84438905e-01\n",
      "   2.50566898e-01 4.75749513e-01]\n",
      "  [7.69272619e-02 1.85365146e-01 7.33590325e-01 2.63948827e-01\n",
      "   2.17359572e-01 3.69769352e-01 3.74702290e-01 3.44471749e-01\n",
      "   2.74609921e-01 7.64558642e-01]\n",
      "  [9.21748778e-01 8.46711130e-01 4.88771425e-01 5.53461033e-01\n",
      "   7.18558258e-01 3.56490489e-01 1.04777244e-01 3.44116069e-01\n",
      "   3.22176132e-01 3.77332711e-01]\n",
      "  [2.35886404e-01 7.69406070e-01 9.59461332e-01 2.82718531e-01\n",
      "   7.34170165e-01 7.05408989e-01 5.82309341e-01 7.23725908e-01\n",
      "   4.70600973e-01 5.68593827e-01]\n",
      "  [2.88684786e-02 5.47590674e-01 5.97572095e-01 6.40392466e-01\n",
      "   9.15742810e-01 1.88581226e-02 3.97134540e-01 6.94324572e-01\n",
      "   3.05614831e-03 1.85535161e-01]\n",
      "  [2.18500046e-01 6.12015987e-01 6.11201821e-01 1.99553342e-02\n",
      "   9.81576376e-01 5.69251742e-01 8.34703132e-01 2.40651859e-01\n",
      "   2.45210406e-01 2.76680220e-01]]\n",
      "\n",
      " [[2.25490055e-01 6.41969388e-01 1.49846492e-01 4.19789647e-01\n",
      "   6.34930419e-01 8.37279143e-01 9.67566696e-01 8.91426120e-01\n",
      "   4.77324243e-01 2.74432664e-02]\n",
      "  [6.59100583e-01 8.32817411e-01 9.63209288e-01 6.30951286e-01\n",
      "   8.84974176e-01 1.16458656e-01 4.28033650e-01 7.42596699e-02\n",
      "   7.28360981e-01 8.88575468e-01]\n",
      "  [3.02596712e-01 9.81389662e-01 9.43509875e-01 9.25355124e-01\n",
      "   4.18241082e-01 6.73409706e-01 1.11690244e-01 5.54618418e-01\n",
      "   4.71316411e-01 3.90568359e-01]\n",
      "  [9.46733106e-01 1.02637965e-01 9.23332238e-01 4.67537236e-01\n",
      "   5.25363698e-01 1.90502936e-01 5.87655670e-01 7.79190043e-01\n",
      "   3.71327392e-01 8.14918909e-01]\n",
      "  [5.61342065e-01 8.96626024e-01 1.63290817e-01 6.13004929e-01\n",
      "   7.52928163e-01 3.66320788e-01 5.42817630e-01 9.05703317e-01\n",
      "   9.49702680e-01 5.22796552e-01]\n",
      "  [9.47983219e-01 6.81440504e-01 5.14684988e-02 8.23814334e-02\n",
      "   8.31380481e-01 5.22432296e-01 2.11695870e-02 3.92509449e-01\n",
      "   5.17899268e-01 9.31843254e-01]\n",
      "  [3.13367336e-02 2.27815373e-01 4.44419344e-01 2.38867241e-01\n",
      "   5.41239556e-01 6.58631106e-01 8.53260168e-01 2.48740249e-02\n",
      "   2.27926277e-01 8.34902361e-01]\n",
      "  [9.87344226e-01 1.47442121e-01 3.10878542e-01 5.81139929e-01\n",
      "   9.07530228e-01 9.35529128e-01 1.03132708e-01 4.65419086e-01\n",
      "   7.96118594e-02 2.15727573e-01]\n",
      "  [3.85342624e-01 5.11250459e-01 5.96136755e-01 9.27059654e-01\n",
      "   1.39385595e-01 8.94979156e-01 8.18266273e-02 2.51841440e-01\n",
      "   8.72819787e-01 9.49047782e-01]\n",
      "  [6.54690335e-01 6.84898238e-01 7.56886830e-01 9.53273787e-01\n",
      "   7.27499035e-01 2.86836144e-01 4.54598269e-01 3.05819654e-01\n",
      "   3.72526630e-01 2.57089682e-01]]]\n"
     ]
    }
   ],
   "source": [
    "randomarray = np.random.random((10,10,10))\n",
    "print(randomarray)"
   ]
  },
  {
   "cell_type": "markdown",
   "metadata": {},
   "source": [
    "Создайте матрицу 8 на 8, заполненную 0 и 1 в шахматном порядке."
   ]
  },
  {
   "cell_type": "code",
   "execution_count": 33,
   "metadata": {},
   "outputs": [
    {
     "name": "stdout",
     "output_type": "stream",
     "text": [
      "[[1. 0. 1. 0. 1. 0. 1. 0.]\n",
      " [0. 1. 0. 1. 0. 1. 0. 1.]\n",
      " [1. 0. 1. 0. 1. 0. 1. 0.]\n",
      " [0. 1. 0. 1. 0. 1. 0. 1.]\n",
      " [1. 0. 1. 0. 1. 0. 1. 0.]\n",
      " [0. 1. 0. 1. 0. 1. 0. 1.]\n",
      " [1. 0. 1. 0. 1. 0. 1. 0.]\n",
      " [0. 1. 0. 1. 0. 1. 0. 1.]]\n"
     ]
    }
   ],
   "source": [
    "chessarray = np.ones((8,8))\n",
    "chessarray[::2, 1::2]=0\n",
    "chessarray[1::2,::2]=0\n",
    "print(chessarray)"
   ]
  },
  {
   "cell_type": "markdown",
   "metadata": {},
   "source": [
    "Найдите произведение матриц 5x3 на 3x2 (см. линейную ал-гебру) ."
   ]
  },
  {
   "cell_type": "code",
   "execution_count": 40,
   "metadata": {},
   "outputs": [
    {
     "name": "stdout",
     "output_type": "stream",
     "text": [
      "[[ 55  58]\n",
      " [208 220]\n",
      " [361 382]\n",
      " [514 544]\n",
      " [667 706]]\n"
     ]
    }
   ],
   "source": [
    "amatrix = np.arange(15).reshape(5,3)\n",
    "bmatrix = np.arange(15,21).reshape(3,2)\n",
    "cmatrix = np.dot(amatrix,bmatrix)\n",
    "print(cmatrix)"
   ]
  },
  {
   "cell_type": "markdown",
   "metadata": {},
   "source": [
    "Создайте матрицу, в каждом ряду которой стоят числа от 0 до 8 (используйте сложение матрицы с вектором)."
   ]
  },
  {
   "cell_type": "code",
   "execution_count": 10,
   "metadata": {},
   "outputs": [
    {
     "name": "stdout",
     "output_type": "stream",
     "text": [
      "[[0. 1. 2. 3. 4. 5. 6. 7. 8.]\n",
      " [0. 1. 2. 3. 4. 5. 6. 7. 8.]\n",
      " [0. 1. 2. 3. 4. 5. 6. 7. 8.]\n",
      " [0. 1. 2. 3. 4. 5. 6. 7. 8.]\n",
      " [0. 1. 2. 3. 4. 5. 6. 7. 8.]]\n",
      "\n",
      "Задание с вектором на 1000 елементов:\n",
      "\n",
      "499.5\n"
     ]
    }
   ],
   "source": [
    "wtfmatrix = np.zeros((5,9))\n",
    "wtfmatrix+=np.arange(0,9)\n",
    "print(wtfmatrix)\n",
    "print(\"\\nЗадание с вектором на 1000 елементов:\\n\")\n",
    "srsum = np.mean(np.arange(1000))\n",
    "print(srsum)"
   ]
  },
  {
   "cell_type": "markdown",
   "metadata": {},
   "source": [
    "Создайте вектор длины 1000. Найдите среднее (арифметиче¬ское) значение из этих элементов."
   ]
  },
  {
   "cell_type": "markdown",
   "metadata": {},
   "source": [
    "## Часть 2. Matplotlib"
   ]
  },
  {
   "cell_type": "markdown",
   "metadata": {},
   "source": [
    "Matplotlib (http://matplotlib.org/index.html) — это библиотека для создания графиков в Python. Matplotlib позволяет строить графики любой сложности типографского качества, которые можно вставить в статью. Подробнее о возможностях см. http://matplotlib.org/users/ intro.html. Matplotlib — большой и сложный инструмент, но на прак¬тике в научных вычислениях часто пользуются частью библиотеки matplotlib .pyplot, которая имитирует построение графиков в стиле MATLAB. В качестве до¬статочно полного введения можно прочитать http://matplotlib.org/users/index.html."
   ]
  },
  {
   "cell_type": "markdown",
   "metadata": {},
   "source": [
    "На практике бывает очень трудно помнить все возможности Matplotlib, поэтому часто используют галереи готовых примеров, а потом модифи-цируют их под свои нужды. Примеры таких подборок можно найти по следующим ссылкам:\n",
    "•\thttp://matplotlib.org/gallery.html\n",
    "•\thttp://matplotlib.org/examples/index.html\n",
    "•\thttp://wiki.scipy.org/Cookbook/Matplotlib/\n"
   ]
  },
  {
   "cell_type": "markdown",
   "metadata": {},
   "source": [
    "Еще материалы. \n",
    "1.\tВведение http://matplotlib.org/users/pyplot_tutorial.html\n",
    "2.\tВведение 2 http://www.loria.fr/~rougier/teaching/matplotlib/.\n",
    "Изучите, как создавать графики разных типов http://www.loria. fr/~rougier/teaching/matplotlib/#other-types-of-plots.\n",
    "3.\tИспользование текста в подписях и т.д. http://matplotlib.org/ users/text_intro.html.\n",
    "4.\tИспользование математического текста http: //matplotlib. org/users/ mathtext.html.\n",
    "5.\tСоздание легенды http://matplotlib.org/users/legend_guide.html.\n",
    "6.\tИнтерактивное использование Matplotlib http: //matplotlib. org/\n",
    "users/shell .html (этот пример можно использовать не только в командной строке, но и в коде для наблюдения за изменением гра¬фиков в ходе выполнения программы).\n"
   ]
  },
  {
   "cell_type": "markdown",
   "metadata": {},
   "source": [
    "Постройте поточечный график функции. Сгенерируйте два массива для этого. Один со значениями по возрастанию (для X), второй со случайными значениями (для Y).\n",
    "\n"
   ]
  },
  {
   "cell_type": "code",
   "execution_count": 3,
   "metadata": {},
   "outputs": [
    {
     "data": {
      "text/plain": [
       "[<matplotlib.lines.Line2D at 0x2a627463cc8>]"
      ]
     },
     "execution_count": 3,
     "metadata": {},
     "output_type": "execute_result"
    },
    {
     "data": {
      "image/png": "[encoded data removed]",
      "text/plain": [
       "<Figure size 432x288 with 1 Axes>"
      ]
     },
     "metadata": {
      "needs_background": "light"
     },
     "output_type": "display_data"
    }
   ],
   "source": [
    "import matplotlib.pyplot as plt\n",
    "plt.plot(np.arange(10),np.random.random(10), '-o')"
   ]
  },
  {
   "cell_type": "markdown",
   "metadata": {},
   "source": [
    "Выберите тригонометрическую функцию $T(x)$, выберите полином $P(x)$. Постройте график функции $T(x)P(x)$."
   ]
  },
  {
   "cell_type": "code",
   "execution_count": 23,
   "metadata": {},
   "outputs": [
    {
     "data": {
      "text/plain": [
       "<matplotlib.legend.Legend at 0x2a627aa96c8>"
      ]
     },
     "execution_count": 23,
     "metadata": {},
     "output_type": "execute_result"
    },
    {
     "data": {
      "image/png": "[encoded data removed]",
      "text/plain": [
       "<Figure size 432x288 with 1 Axes>"
      ]
     },
     "metadata": {
      "needs_background": "light"
     },
     "output_type": "display_data"
    }
   ],
   "source": [
    "T = np.sin(x)\n",
    "P = x**3+2*x**2+4*x+5\n",
    "TP = T*P\n",
    "plt.plot(x, TP)\n"
   ]
  },
  {
   "cell_type": "markdown",
   "metadata": {},
   "source": [
    "К графику добавьте: обозначение оси абсцисс, обозначение оси ординат, название графика, вставка легенды (текста в label)."
   ]
  },
  {
   "cell_type": "code",
   "execution_count": 31,
   "metadata": {},
   "outputs": [
    {
     "data": {
      "text/plain": [
       "Text(0.5, 1.0, 'Test_Name')"
      ]
     },
     "execution_count": 31,
     "metadata": {},
     "output_type": "execute_result"
    },
    {
     "data": {
      "image/png": "[encoded data removed]",
      "text/plain": [
       "<Figure size 432x288 with 1 Axes>"
      ]
     },
     "metadata": {
      "needs_background": "light"
     },
     "output_type": "display_data"
    }
   ],
   "source": [
    "T = np.sin(x)\n",
    "P = x**3+2*x**2+4*x+5\n",
    "TP = T*P\n",
    "fig, ax = plt.subplots()\n",
    "ax.plot(x, TP, label = '$y = T(x)*P(x)$')\n",
    "ax.legend(loc='best')\n",
    "ax.set_xlabel('X-axis')\n",
    "ax.set_ylabel('Y-axis')\n",
    "plt.title('Test_Name')"
   ]
  },
  {
   "cell_type": "markdown",
   "metadata": {},
   "source": [
    "Измените цвет графика на Ваш любимый. "
   ]
  },
  {
   "cell_type": "code",
   "execution_count": 34,
   "metadata": {},
   "outputs": [
    {
     "data": {
      "text/plain": [
       "Text(0.5, 1.0, 'Test_Name')"
      ]
     },
     "execution_count": 34,
     "metadata": {},
     "output_type": "execute_result"
    },
    {
     "data": {
      "image/png": "[encoded data removed]",
      "text/plain": [
       "<Figure size 432x288 with 1 Axes>"
      ]
     },
     "metadata": {
      "needs_background": "light"
     },
     "output_type": "display_data"
    }
   ],
   "source": [
    "T = np.sin(x)\n",
    "P = x**3+2*x**2+4*x+5\n",
    "TP = T*P\n",
    "fig, ax = plt.subplots()\n",
    "ax.plot(x, TP, label = '$y = T(x)*P(x)$', color = 'darkmagenta')\n",
    "ax.legend(loc='best')\n",
    "ax.set_xlabel('X-axis')\n",
    "ax.set_ylabel('Y-axis')\n",
    "plt.title('Test_Name')"
   ]
  },
  {
   "cell_type": "markdown",
   "metadata": {},
   "source": [
    "Постройте несколько квивых. Первая - цвет красный, сплошная, вторая - цвет синий, штрих-пунктир."
   ]
  },
  {
   "cell_type": "code",
   "execution_count": 4,
   "metadata": {},
   "outputs": [
    {
     "data": {
      "text/plain": [
       "[<matplotlib.lines.Line2D at 0x2a627777e08>]"
      ]
     },
     "execution_count": 4,
     "metadata": {},
     "output_type": "execute_result"
    },
    {
     "data": {
      "image/png": "[encoded data removed]",
      "text/plain": [
       "<Figure size 432x288 with 1 Axes>"
      ]
     },
     "metadata": {
      "needs_background": "light"
     },
     "output_type": "display_data"
    }
   ],
   "source": [
    "x = np.linspace(-10,10,50)\n",
    "plt.plot(x,x**3, color = 'crimson', linestyle = 'solid')\n",
    "plt.plot(x,x**4, color = 'blue', linestyle = 'dashed')"
   ]
  },
  {
   "cell_type": "markdown",
   "metadata": {},
   "source": [
    "Постройте теже графики, только для первого добавьте маркеры из красных треугольников, для второго синие круглые маркеры."
   ]
  },
  {
   "cell_type": "code",
   "execution_count": 15,
   "metadata": {},
   "outputs": [
    {
     "data": {
      "image/png": "[encoded data removed]",
      "text/plain": [
       "<Figure size 432x288 with 1 Axes>"
      ]
     },
     "metadata": {
      "needs_background": "light"
     },
     "output_type": "display_data"
    }
   ],
   "source": [
    "x = np.linspace(-10,10,50)\n",
    "y = x**3\n",
    "z = x**4\n",
    "fig, ax= plt.subplots()\n",
    "ax.plot(x,y, color = 'crimson', linestyle = 'solid', marker = '^')\n",
    "ax.plot(x,z, color = 'blue', linestyle = 'dashed', marker = 'o')\n",
    "plt.show()\n",
    "fig.savefig('TEst')"
   ]
  },
  {
   "cell_type": "markdown",
   "metadata": {},
   "source": [
    "Запрограмируйте сохранение графика. "
   ]
  },
  {
   "cell_type": "markdown",
   "metadata": {
    "collapsed": true
   },
   "source": [
    "# Часть 3. OpenCV"
   ]
  },
  {
   "cell_type": "markdown",
   "metadata": {
    "collapsed": true
   },
   "source": [
    "Прочитайте картинку используя opencv"
   ]
  },
  {
   "cell_type": "code",
   "execution_count": 1,
   "metadata": {},
   "outputs": [],
   "source": [
    "import cv2\n",
    "img = cv2.imread('Test.jpg')\n",
    "window_name = 'image'\n",
    "cv2.imshow(window_name, img)\n",
    "cv2.waitKey(0)\n",
    "cv2.destroyAllWindows()\n"
   ]
  },
  {
   "cell_type": "markdown",
   "metadata": {},
   "source": [
    "Сделайте ее черно-белой"
   ]
  },
  {
   "cell_type": "code",
   "execution_count": 3,
   "metadata": {},
   "outputs": [],
   "source": [
    "img = cv2.imread('Test.jpg')\n",
    "ret, thres = cv2.threshold(img, 127, 255, 0)\n",
    "cv2.imshow(window_name, thres)\n",
    "cv2.waitKey(0)\n",
    "cv2.destroyAllWindows()"
   ]
  },
  {
   "cell_type": "markdown",
   "metadata": {},
   "source": [
    "Измените размер на 300x300"
   ]
  },
  {
   "cell_type": "code",
   "execution_count": 4,
   "metadata": {},
   "outputs": [],
   "source": [
    "img = cv2.imread('Test.jpg')\n",
    "dim = (300, 300)\n",
    "resized = cv2.resize(img, dim, interpolation = cv2.INTER_AREA)\n",
    "cv2.imshow(window_name, resized)\n",
    "cv2.waitKey(0)\n",
    "cv2.destroyAllWindows()"
   ]
  },
  {
   "cell_type": "markdown",
   "metadata": {},
   "source": [
    "Разбейте ее на 2 картинки. Сохраните. "
   ]
  },
  {
   "cell_type": "code",
   "execution_count": 8,
   "metadata": {},
   "outputs": [],
   "source": [
    "#Это очень кривой метод, но по другому я не придумал и функций не нашел\n",
    "img = cv2.imread('Test.jpg')\n",
    "width = int(img.shape[1] * 0.5)\n",
    "height = int(img.shape[0])\n",
    "cropped1 = img[0:height, 0:width]\n",
    "cropped2 = img[0:height,width:width*2]\n",
    "cv2.imwrite('Testc1.jpg', cropped1)\n",
    "cv2.imwrite('Testc2.jpg', cropped2)\n",
    "window_name2 = 'image2'\n",
    "cv2.imshow(window_name, cropped1)\n",
    "cv2.imshow(window_name2, cropped2)\n",
    "cv2.waitKey(0)\n",
    "cv2.destroyAllWindows()"
   ]
  },
  {
   "cell_type": "markdown",
   "metadata": {},
   "source": [
    "Прочитайте 2 картинки и склейте. "
   ]
  },
  {
   "cell_type": "code",
   "execution_count": 9,
   "metadata": {},
   "outputs": [],
   "source": [
    "import numpy as np\n",
    "img1 = cv2.imread('Testc1.jpg')\n",
    "img2 = cv2.imread('Testc2.jpg')\n",
    "vis = np.concatenate((img1, img2), axis=1)\n",
    "cv2.imshow(window_name, vis)\n",
    "cv2.waitKey(0)\n",
    "cv2.destroyAllWindows()"
   ]
  }
 ],
 "metadata": {
  "kernelspec": {
   "display_name": "Python 3",
   "language": "python",
   "name": "python3"
  },
  "language_info": {
   "codemirror_mode": {
    "name": "ipython",
    "version": 3
   },
   "file_extension": ".py",
   "mimetype": "text/x-python",
   "name": "python",
   "nbconvert_exporter": "python",
   "pygments_lexer": "ipython3",
   "version": "3.7.6"
  }
 },
 "nbformat": 4,
 "nbformat_minor": 1
}
