{
 "cells": [
  {
   "cell_type": "markdown",
   "metadata": {},
   "source": [
    "# Задачи к теме \"Основы языка Python\""
   ]
  },
  {
   "cell_type": "code",
   "execution_count": 1,
   "metadata": {
    "collapsed": true
   },
   "outputs": [],
   "source": [
    "# Python 2 and 3 compatibility\n",
    "# pip install future\n",
    "from __future__ import (absolute_import, division,\n",
    "                        print_function, unicode_literals)\n",
    "from builtins import *"
   ]
  },
  {
   "cell_type": "markdown",
   "metadata": {},
   "source": [
    "## Задача A\n",
    "Вычислите $2^{179}$. Выведите на экран вычисленное значение."
   ]
  },
  {
   "cell_type": "code",
   "execution_count": 12,
   "metadata": {},
   "outputs": [
    {
     "name": "stdout",
     "output_type": "stream",
     "text": [
      "766247770432944429179173513575154591809369561091801088\n"
     ]
    }
   ],
   "source": [
    "print(2**179)"
   ]
  },
  {
   "cell_type": "markdown",
   "metadata": {},
   "source": [
    "## Задача B\n",
    "Вычислите 20!. Выведите на экран вычисленное значение."
   ]
  },
  {
   "cell_type": "code",
   "execution_count": 11,
   "metadata": {},
   "outputs": [
    {
     "name": "stdout",
     "output_type": "stream",
     "text": [
      "2432902008176640000\n"
     ]
    }
   ],
   "source": [
    "factorial=1;\n",
    "for i in range(2,21):\n",
    "    factorial*=i;\n",
    "print(factorial)"
   ]
  },
  {
   "cell_type": "markdown",
   "metadata": {},
   "source": [
    "## Задача C\n",
    "Вычислите длину гипотенузы в прямоугольном треугольнике со сторонами 179 и 971."
   ]
  },
  {
   "cell_type": "code",
   "execution_count": 10,
   "metadata": {},
   "outputs": [
    {
     "name": "stdout",
     "output_type": "stream",
     "text": [
      "987.361129475938\n"
     ]
    }
   ],
   "source": [
    "import math\n",
    "print(math.sqrt(179**2+971**2))"
   ]
  },
  {
   "cell_type": "markdown",
   "metadata": {},
   "source": [
    "## Задача D\n",
    "Запишите букву 'A' (латинскую, заглавную) 100 раз подряд. Сдайте на проверку программу, которая выводит эту строчку (только буквы, без кавычек)."
   ]
  },
  {
   "cell_type": "code",
   "execution_count": 9,
   "metadata": {},
   "outputs": [
    {
     "name": "stdout",
     "output_type": "stream",
     "text": [
      "AAAAAAAAAAAAAAAAAAAAAAAAAAAAAAAAAAAAAAAAAAAAAAAAAAAAAAAAAAAAAAAAAAAAAAAAAAAAAAAAAAAAAAAAAAAAAAAAAAAA\n"
     ]
    }
   ],
   "source": [
    "print('A'*100)"
   ]
  },
  {
   "cell_type": "markdown",
   "metadata": {},
   "source": [
    "## Задача E\n",
    "Даны два целых числа. Выведите значение наибольшего из них."
   ]
  },
  {
   "cell_type": "code",
   "execution_count": 6,
   "metadata": {},
   "outputs": [
    {
     "name": "stdout",
     "output_type": "stream",
     "text": [
      "First number 10\n",
      "Second number 20\n",
      "Наибольшее:  20\n"
     ]
    }
   ],
   "source": [
    "first_number = input('First number ')\n",
    "second_number = input('Second number ')\n",
    "print('Наибольшее: ', max([first_number, second_number]))\n"
   ]
  },
  {
   "cell_type": "markdown",
   "metadata": {},
   "source": [
    "## Задача F\n",
    "Даны два целых числа. Программа должна вывести число 1, если первое число больше второго, число 2, если второе больше первого или число 0, если они равны."
   ]
  },
  {
   "cell_type": "code",
   "execution_count": 7,
   "metadata": {},
   "outputs": [
    {
     "name": "stdout",
     "output_type": "stream",
     "text": [
      "First number 10\n",
      "Second number 20\n",
      "2\n"
     ]
    }
   ],
   "source": [
    "first_number = input('First number ')\n",
    "second_number = input('Second number ')\n",
    "if (first_number>second_number):\n",
    "    print(1)\n",
    "elif (first_number<second_number):\n",
    "    print(2)\n",
    "else: \n",
    "    print(0)"
   ]
  },
  {
   "cell_type": "markdown",
   "metadata": {},
   "source": [
    "## Задача G\n",
    "Число 179 записали 50 раз подряд. Полученное 150-значное число возвели в квадрат. Сколько получилось?"
   ]
  },
  {
   "cell_type": "code",
   "execution_count": 8,
   "metadata": {},
   "outputs": [
    {
     "name": "stdout",
     "output_type": "stream",
     "text": [
      "32105178251324397470543616689762835908982055128201274347420493566639712785858932005078151224297370443516589662735808881955028101174247320393466539612621548475402329256183110036963890817744671598525452379306233160087013940867794721648575502429356283210137063990917844771698625552479406333260187114041\n"
     ]
    }
   ],
   "source": [
    "print(int('179'*50)**2)"
   ]
  },
  {
   "cell_type": "markdown",
   "metadata": {},
   "source": [
    "## Задача H\n",
    "Дано два числа a и b. Выведите гипотенузу треугольника с заданными катетами."
   ]
  },
  {
   "cell_type": "code",
   "execution_count": null,
   "metadata": {
    "scrolled": true
   },
   "outputs": [],
   "source": [
    "import math\n",
    "a = input('First number ')\n",
    "b = input('Second number ')\n",
    "print('Гипотенуза: ', (math.sqrt((int)(a)**2+(int)(b)**2)))"
   ]
  },
  {
   "cell_type": "markdown",
   "metadata": {},
   "source": [
    "## Задача I\n",
    "Даны три целых числа. Найдите наибольшее из них (программа должна вывести ровно одно целое число).\n",
    "Какое наименьшее число операторов сравнения (>, <, >=, <=) необходимо для решения этой задачи?"
   ]
  },
  {
   "cell_type": "code",
   "execution_count": 1,
   "metadata": {},
   "outputs": [
    {
     "name": "stdout",
     "output_type": "stream",
     "text": [
      "First number 10\n",
      "Second number 20\n",
      "Third number 30\n",
      "30\n"
     ]
    }
   ],
   "source": [
    "first_number = input('First number ')\n",
    "second_number = input('Second number ')\n",
    "third_number = input('Third number ')\n",
    "print(max([first_number, second_number,third_number]))\n",
    "## Используя функцию max можно вывести только одно число, даже если максимальных несколько - это недостаток функции \n",
    "## Можно написать эту функцию через цикл, и создать массив, где будут записываться одинаковые максимальные элементы, \n",
    "## но кому это надо). Необходимо 2 оператора сравнения \"больше\" (для 2 и 3 числа)."
   ]
  },
  {
   "cell_type": "markdown",
   "metadata": {},
   "source": [
    "## Задача J\n",
    "Даны три натуральных числа a, b, c. Определите, существует ли треугольник с такими сторонами. Если треугольник существует, выведите строку YES, иначе выведите строку NO.\n",
    "Треугольник — это три точки, не лежащие на одной прямой."
   ]
  },
  {
   "cell_type": "code",
   "execution_count": 3,
   "metadata": {},
   "outputs": [
    {
     "name": "stdout",
     "output_type": "stream",
     "text": [
      "Input a 2\n",
      "Input b 3\n",
      "Input c 4\n",
      "Yes\n"
     ]
    }
   ],
   "source": [
    "a = int(input('Input a '))\n",
    "b = int(input('Input b '))\n",
    "c = int(input('Input c '))\n",
    "print ('YES' if ((a+b)>c and (a+c)>b and (b+c)> a) else 'NO')"
   ]
  },
  {
   "cell_type": "markdown",
   "metadata": {},
   "source": [
    "## Задача K\n",
    "Шахматная ладья ходит по горизонтали или вертикали. Даны две различные клетки шахматной доски, определите, может ли ладья попасть с первой клетки на вторую одним ходом."
   ]
  },
  {
   "cell_type": "code",
   "execution_count": 1,
   "metadata": {},
   "outputs": [
    {
     "name": "stdout",
     "output_type": "stream",
     "text": [
      "Введите первую клетку шахматной доски:\n",
      "a-h b\n",
      "1-8 2\n",
      "Введите вторую клетку шахматной доски:\n",
      "a-h c\n",
      "1-8 4\n",
      "Не может\n"
     ]
    }
   ],
   "source": [
    "print('Введите первую клетку шахматной доски:')\n",
    "a = input('a-h ')\n",
    "b = int(input('1-8 '))\n",
    "print('Введите вторую клетку шахматной доски:')\n",
    "c = input('a-h ')\n",
    "d = int(input('1-8 '))\n",
    "if (a==c and b==d):\n",
    "    print('Введены одинаковые клетки')\n",
    "elif (a==c or b==d):\n",
    "    print('Может')\n",
    "else:\n",
    "    print('Не может')"
   ]
  },
  {
   "cell_type": "markdown",
   "metadata": {},
   "source": [
    "## Задача L\n",
    "Число $179^{10}$ записали четыре раза подряд. Из получившегося числа извлекли корень степени 10. Сколько получилось?"
   ]
  },
  {
   "cell_type": "code",
   "execution_count": 2,
   "metadata": {},
   "outputs": [
    {
     "data": {
      "text/plain": [
       "1421847540.1564655"
      ]
     },
     "execution_count": 2,
     "metadata": {},
     "output_type": "execute_result"
    }
   ],
   "source": [
    "pow(int(str(179**10)*4),1/10)"
   ]
  },
  {
   "cell_type": "markdown",
   "metadata": {},
   "source": [
    "## Задача M\n",
    "Дано натуральное число. Требуется определить, является ли год с данным номером високосным. Если год является високосным, то выведите YES, иначе выведите NO. Напомним, что в соответствии с григорианским календарем, год является високосным, если его номер кратен 4, но не кратен 100, а также если он кратен 400."
   ]
  },
  {
   "cell_type": "code",
   "execution_count": 13,
   "metadata": {},
   "outputs": [],
   "source": [
    "number = int(input('Номер года '))\n",
    "print('YES' if ((number%4==0 and number%100!=0) or (number%400==0)) else 'NO')"
   ]
  },
  {
   "cell_type": "markdown",
   "metadata": {},
   "source": [
    "# Задача N\n",
    "Шахматный конь ходит буквой “Г” — на две клетки по вертикали в любом направлении и на одну клетку по горизонтали, или наоборот. Даны две различные клетки шахматной доски, определите, может ли конь попасть с первой клетки на вторую одним ходом."
   ]
  },
  {
   "cell_type": "code",
   "execution_count": 5,
   "metadata": {},
   "outputs": [
    {
     "name": "stdout",
     "output_type": "stream",
     "text": [
      "Введите первую клетку шахматной доски:\n",
      "a-h a\n",
      "1-8 2\n",
      "Введите вторую клетку шахматной доски:\n",
      "a-h c\n",
      "1-8 2\n",
      "NO\n"
     ]
    }
   ],
   "source": [
    "print('Введите первую клетку шахматной доски:')\n",
    "a = input('a-h ')\n",
    "b = int(input('1-8 '))\n",
    "print('Введите вторую клетку шахматной доски:')\n",
    "c = input('a-h ')\n",
    "d = int(input('1-8 '))\n",
    "a = ord(a)-96\n",
    "c = ord(c)-96\n",
    "x = abs(a - c)\n",
    "y = abs(b - d)\n",
    "print('YES' if (x == 1 and y == 2 or x == 2 and y == 1) else 'NO')"
   ]
  },
  {
   "cell_type": "markdown",
   "metadata": {},
   "source": [
    "## Задача A2\n",
    "Даны два целых числа A и B (при этом A $\\leq$ B). Выведите все числа от A до B включительно."
   ]
  },
  {
   "cell_type": "code",
   "execution_count": 6,
   "metadata": {},
   "outputs": [
    {
     "name": "stdout",
     "output_type": "stream",
     "text": [
      "Введите A: 10\n",
      "Введите B(A<=B): 20\n",
      "10  \n",
      "11  \n",
      "12  \n",
      "13  \n",
      "14  \n",
      "15  \n",
      "16  \n",
      "17  \n",
      "18  \n",
      "19  \n",
      "20  \n"
     ]
    }
   ],
   "source": [
    "A = int(input('Введите A: '))\n",
    "B = int(input('Введите B(A<=B): '))\n",
    "for i in range(A,B+1):\n",
    "    print(i,' ')"
   ]
  },
  {
   "cell_type": "markdown",
   "metadata": {},
   "source": [
    "## Задача B2\n",
    "По данному натуральном n вычислите сумму $1^2+2^2+3^2+ \\ldots +n^2$."
   ]
  },
  {
   "cell_type": "code",
   "execution_count": 9,
   "metadata": {},
   "outputs": [
    {
     "name": "stdout",
     "output_type": "stream",
     "text": [
      "Введите n: 5\n",
      "Сумма:  55\n"
     ]
    }
   ],
   "source": [
    "n = int(input('Введите n: '))\n",
    "result = 0\n",
    "for i in range(1,n+1):\n",
    "    result+=i**2\n",
    "print ('Сумма: ', result)"
   ]
  },
  {
   "cell_type": "markdown",
   "metadata": {},
   "source": [
    "## Задача C2\n",
    "По данному целому неотрицательному n вычислите значение n!."
   ]
  },
  {
   "cell_type": "code",
   "execution_count": 10,
   "metadata": {},
   "outputs": [
    {
     "name": "stdout",
     "output_type": "stream",
     "text": [
      "Введите n: 5\n",
      "n!:  120\n"
     ]
    }
   ],
   "source": [
    "n = int(input('Введите n: '))\n",
    "factorial=1;\n",
    "for i in range(2,n+1):\n",
    "    factorial*=i;\n",
    "print('n!: ', factorial)"
   ]
  },
  {
   "cell_type": "markdown",
   "metadata": {},
   "source": [
    "## Задача D2\n",
    "По данным целым неотрицательным n и k вычислите значение числа сочетаний из n элементов по k, то есть $\\frac{n!}{k!(n-k)!}$."
   ]
  },
  {
   "cell_type": "code",
   "execution_count": 20,
   "metadata": {},
   "outputs": [],
   "source": [
    "def factorial(n):\n",
    "    s = 1\n",
    "    for i in range (2,n+1):\n",
    "        s = s*i\n",
    "    return s\n",
    "\n",
    "def F(n,k):\n",
    "    return (factorial(n)/(factorial(k)*factorial(n-k)))\n",
    "\n",
    "\n",
    "n = int(input('Введите n: '))\n",
    "k = int(input('Введите k: '))\n",
    "print(F(n,k))"
   ]
  },
  {
   "cell_type": "markdown",
   "metadata": {},
   "source": [
    "## Задача E2\n",
    "Напишите программу, которая по данному числу n от 1 до 9 выводит на экран n пингвинов. Изображение одного пингвина имеет размер 5×9 символов, между двумя соседними пингвинами также имеется пустой (из пробелов) столбец. Разрешается вывести пустой столбец после последнего пингвина. Для упрощения рисования скопируйте пингвина из примера в среду разработки.\n",
    "\n"
   ]
  },
  {
   "cell_type": "code",
   "execution_count": 21,
   "metadata": {},
   "outputs": [],
   "source": [
    "penguine = [\"   _~_    \",\n",
    "            \"  (o o)   \",\n",
    "            \" /  V  \\ \",\n",
    "            \"/(  _  )\\ \",\n",
    "            \"  ^^ ^^   \"]"
   ]
  },
  {
   "cell_type": "code",
   "execution_count": 22,
   "metadata": {
    "collapsed": true
   },
   "outputs": [],
   "source": [
    "n = int(input('Введите n: '))\n",
    "penguine = [\"    _~_   \",\n",
    "            \"  (o o)   \",\n",
    "            \" /  V  \\  \",\n",
    "            \"/(  _  )\\ \",\n",
    "            \"  ^^ ^^   \"]\n",
    "print(penguine[0]*n,\"\\n\",penguine[1]*n,\"\\n\",penguine[2]*n,\"\\n\",penguine[3]*n,\"\\n\",penguine[4]*n)"
   ]
  },
  {
   "cell_type": "markdown",
   "metadata": {
    "collapsed": true
   },
   "source": [
    "## Задача F2\n",
    "Шоколадка имеет вид прямоугольника, разделенного на n×m долек. Шоколадку можно один раз разломить по прямой на две части. Определите, можно ли таким образом отломить от шоколадки ровно k долек."
   ]
  },
  {
   "cell_type": "code",
   "execution_count": 23,
   "metadata": {},
   "outputs": [],
   "source": [
    "n = int(input('Введите n: '))\n",
    "m = int(input('Введите m: '))\n",
    "k = int(input('Введите k: '))\n",
    "print('Можно' if (k < n * m and ((k % n == 0) or (k % m == 0))) else 'Нельзя')"
   ]
  },
  {
   "cell_type": "markdown",
   "metadata": {},
   "source": [
    "## Задача G2\n",
    "Дано линейное уравнение $ax + b = 0$. Решите уравнение, напечатайте ответ. Если ответов бесконечно много, выведите \"INF\", если их нет - \"NO\"."
   ]
  },
  {
   "cell_type": "code",
   "execution_count": 24,
   "metadata": {},
   "outputs": [],
   "source": [
    "a = int(input('Введите a: '))\n",
    "b = int(input('Введите b: '))\n",
    "result = 'NO';\n",
    "if (a==0 and b==0):\n",
    "    result='INF'\n",
    "elif a!=0 :\n",
    "    result=-b/a\n",
    "print('Ответ: ', result)"
   ]
  },
  {
   "cell_type": "markdown",
   "metadata": {},
   "source": [
    "## Задача H2\n",
    "Для данного числа n < 100 закончите фразу “На лугу пасется...” одним из возможных продолжений: “n коров”, “n корова”, “n коровы”, правильно склоняя слово “корова”."
   ]
  },
  {
   "cell_type": "code",
   "execution_count": 12,
   "metadata": {
    "scrolled": true
   },
   "outputs": [
    {
     "name": "stdout",
     "output_type": "stream",
     "text": [
      "3\n",
      "На лугу пасется  3  коровы\n"
     ]
    }
   ],
   "source": [
    "n = int(input('Введите n: '))\n",
    "if n%10== 1:\n",
    "    print ('На лугу пасется 1 корова')\n",
    "elif (n%10>1 and n%10<5):\n",
    "    print ('На лугу пасется ',n,' коровы')\n",
    "else:\n",
    "    print ('На лугу пасется ',n,' коров')"
   ]
  },
  {
   "cell_type": "markdown",
   "metadata": {},
   "source": [
    "# Задача I2. Диофантово уравнение"
   ]
  },
  {
   "cell_type": "markdown",
   "metadata": {},
   "source": [
    "Даны числа a, b, c, d. Выведите в порядке возрастания все целые числа от 0 до 1000, которые являются корнями уравнения $ax^3+bx^2+cx+d=0$."
   ]
  },
  {
   "cell_type": "code",
   "execution_count": null,
   "metadata": {},
   "outputs": [],
   "source": [
    "a = int(input('Введите a: '))\n",
    "b = int(input('Введите b: '))\n",
    "c = int(input('Введите c: '))\n",
    "d = int(input('Введите d: '))\n",
    "\n",
    "for x in range(0,1001):\n",
    "    if (a*(x**3) + b*(x**2) + c*x + d == 0):\n",
    "        print(x)"
   ]
  },
  {
   "cell_type": "markdown",
   "metadata": {},
   "source": [
    "## Задача J2\n",
    "Квадрат трехзначного числа оканчивается тремя цифрами, равными этому числу. Найдите и выведите все такие числа."
   ]
  },
  {
   "cell_type": "code",
   "execution_count": 14,
   "metadata": {},
   "outputs": [
    {
     "name": "stdout",
     "output_type": "stream",
     "text": [
      "376\n",
      "625\n"
     ]
    }
   ],
   "source": [
    "for i in range(100,1000):\n",
    "    if i**2%1000 == i:\n",
    "        print(i)"
   ]
  },
  {
   "cell_type": "markdown",
   "metadata": {},
   "source": [
    "## Задача K2\n",
    "По данному натуральному $n \\leq 9$ выведите лесенку из n ступенек, i-я ступенька состоит из чисел от 1 до i без пробелов."
   ]
  },
  {
   "cell_type": "code",
   "execution_count": 1,
   "metadata": {},
   "outputs": [
    {
     "name": "stdout",
     "output_type": "stream",
     "text": [
      "Введите n(n<=9): 8\n",
      "1\n",
      "12\n",
      "123\n",
      "1234\n",
      "12345\n",
      "123456\n",
      "1234567\n",
      "12345678\n"
     ]
    }
   ],
   "source": [
    "n = int(input('Введите n(n<=9): '))\n",
    "for i in range(1, n + 1):\n",
    "    for j in range(1, i + 1):\n",
    "        print(j, end='')\n",
    "    print()"
   ]
  },
  {
   "cell_type": "markdown",
   "metadata": {},
   "source": [
    "## Задача L2\n",
    "Дано три числа. Упорядочите их в порядке неубывания. Программа должна считывать три числа a, b, c, затем программа должна менять их значения так, чтобы стали выполнены условия $a \\leq b \\leq c$, затем программа выводит тройку a, b, c."
   ]
  },
  {
   "cell_type": "code",
   "execution_count": 29,
   "metadata": {},
   "outputs": [],
   "source": [
    "a = int(input('Введите a: '))\n",
    "b = int(input('Введите b: '))\n",
    "c = int(input('Введите c: '))\n",
    "if a>b:\n",
    "    (a,b)=(b,a)\n",
    "if b>c:\n",
    "    (b,c)=(c,b)\n",
    "if a>b:\n",
    "    (a,b)=(b,a)\n",
    "print(a,b,c)"
   ]
  },
  {
   "cell_type": "markdown",
   "metadata": {},
   "source": [
    "## Задача M2\n",
    "Давным-давно билет на одну поездку в метро стоил 15 рубля, билет на 10 поездок стоил 125 рублей, билет на 60 поездок стоил 440 рублей. Пассажир планирует совершить n поездок. Определите, сколько билетов каждого вида он должен приобрести, чтобы суммарное количество оплаченных поездок было не меньше n, а общая стоимость приобретенных билетов — минимальна."
   ]
  },
  {
   "cell_type": "code",
   "execution_count": 30,
   "metadata": {},
   "outputs": [],
   "source": [
    "n = int(input('Введите n: '))\n",
    "a,b,c = 0,0,0\n",
    "if n>=60:\n",
    "    a = int(n/60)\n",
    "    n = n - 60*a\n",
    "if n>=10:\n",
    "    b = int(n/10)\n",
    "    n = n - 10*b\n",
    "if n>=1:\n",
    "    c = n\n",
    "print('По 15 рублей: ',c,';\\nПо 125 рублей: ',b,';\\nПо 440 рублей: ',a,';\\nОбщая сумма: ',c*15+b*125*a*440,';')"
   ]
  },
  {
   "cell_type": "markdown",
   "metadata": {},
   "source": [
    "## Задача N2. Сумма факториалов\n",
    "По данному натуральном n вычислите сумму 1! + 2! + 3! + ... +n!. В решении этой задачи можно использовать только один цикл."
   ]
  },
  {
   "cell_type": "code",
   "execution_count": 2,
   "metadata": {},
   "outputs": [
    {
     "name": "stdout",
     "output_type": "stream",
     "text": [
      "Введите n: 5\n",
      "153\n"
     ]
    }
   ],
   "source": [
    "n = int(input('Введите n: '))\n",
    "a = 1\n",
    "b = 0\n",
    "for i in range (1,n+1):\n",
    "    a*=i\n",
    "    b+=a\n",
    "print(b)"
   ]
  }
 ],
 "metadata": {
  "kernelspec": {
   "display_name": "Python 3",
   "language": "python",
   "name": "python3"
  },
  "language_info": {
   "codemirror_mode": {
    "name": "ipython",
    "version": 3
   },
   "file_extension": ".py",
   "mimetype": "text/x-python",
   "name": "python",
   "nbconvert_exporter": "python",
   "pygments_lexer": "ipython3",
   "version": "3.7.6"
  },
  "name": "seminar1_python_intro_tools.ipynb"
 },
 "nbformat": 4,
 "nbformat_minor": 1
}
